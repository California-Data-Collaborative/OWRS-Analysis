{
 "cells": [
  {
   "cell_type": "code",
   "execution_count": 2,
   "metadata": {
    "collapsed": false
   },
   "outputs": [
    {
     "name": "stdout",
     "output_type": "stream",
     "text": [
      "height has been deprecated.\n",
      "\n"
     ]
    }
   ],
   "source": [
    "import pandas as pd\n",
    "import numpy as np\n",
    "import geopandas as gp\n",
    "import matplotlib.pylab as pl\n",
    "from fiona.crs import from_epsg\n",
    "import fiona\n",
    "from matplotlib import colors\n",
    "import shapely\n",
    "import matplotlib.pyplot as plt\n",
    "import matplotlib.colors as mcolors\n",
    "import seaborn as sns\n",
    "import matplotlib.cm as cm\n",
    "from matplotlib.colors import ListedColormap    \n",
    "%matplotlib inline\n",
    "pd.set_option('display.height',1000)\n",
    "pd.set_option('display.max_row',500)\n",
    "pd.set_option('display.max_columns',500)\n",
    "pd.set_option(\"display.width\", 1000)"
   ]
  },
  {
   "cell_type": "markdown",
   "metadata": {},
   "source": [
    "### Objective\n",
    "The objective of this notebook is to aggregate the data from the Census Bureau by Water District\n"
   ]
  },
  {
   "cell_type": "code",
   "execution_count": 3,
   "metadata": {
    "collapsed": false
   },
   "outputs": [],
   "source": [
    "inc = gp.GeoDataFrame.from_file('../Data/Supplier/Household_Income_Water_District.geojson')"
   ]
  },
  {
   "cell_type": "code",
   "execution_count": 4,
   "metadata": {
    "collapsed": false
   },
   "outputs": [
    {
     "data": {
      "text/html": [
       "<div>\n",
       "<table border=\"1\" class=\"dataframe\">\n",
       "  <thead>\n",
       "    <tr style=\"text-align: right;\">\n",
       "      <th></th>\n",
       "      <th>Estimate; Total:</th>\n",
       "      <th>Estimate; Total: - $10,000 to $14,999</th>\n",
       "      <th>Estimate; Total: - $100,000 to $124,999</th>\n",
       "      <th>Estimate; Total: - $125,000 to $149,999</th>\n",
       "      <th>Estimate; Total: - $15,000 to $19,999</th>\n",
       "      <th>Estimate; Total: - $150,000 to $199,999</th>\n",
       "      <th>Estimate; Total: - $20,000 to $24,999</th>\n",
       "      <th>Estimate; Total: - $200,000 or more</th>\n",
       "      <th>Estimate; Total: - $25,000 to $29,999</th>\n",
       "      <th>Estimate; Total: - $30,000 to $34,999</th>\n",
       "      <th>Estimate; Total: - $35,000 to $39,999</th>\n",
       "      <th>Estimate; Total: - $40,000 to $44,999</th>\n",
       "      <th>Estimate; Total: - $45,000 to $49,999</th>\n",
       "      <th>Estimate; Total: - $50,000 to $59,999</th>\n",
       "      <th>Estimate; Total: - $60,000 to $74,999</th>\n",
       "      <th>Estimate; Total: - $75,000 to $99,999</th>\n",
       "      <th>Estimate; Total: - Less than $10,000</th>\n",
       "      <th>Margin of Error; Total:</th>\n",
       "      <th>Margin of Error; Total: - $10,000 to $14,999</th>\n",
       "      <th>Margin of Error; Total: - $100,000 to $124,999</th>\n",
       "      <th>Margin of Error; Total: - $125,000 to $149,999</th>\n",
       "      <th>Margin of Error; Total: - $15,000 to $19,999</th>\n",
       "      <th>Margin of Error; Total: - $150,000 to $199,999</th>\n",
       "      <th>Margin of Error; Total: - $20,000 to $24,999</th>\n",
       "      <th>Margin of Error; Total: - $200,000 or more</th>\n",
       "      <th>Margin of Error; Total: - $25,000 to $29,999</th>\n",
       "      <th>Margin of Error; Total: - $30,000 to $34,999</th>\n",
       "      <th>Margin of Error; Total: - $35,000 to $39,999</th>\n",
       "      <th>Margin of Error; Total: - $40,000 to $44,999</th>\n",
       "      <th>Margin of Error; Total: - $45,000 to $49,999</th>\n",
       "      <th>Margin of Error; Total: - $50,000 to $59,999</th>\n",
       "      <th>Margin of Error; Total: - $60,000 to $74,999</th>\n",
       "      <th>Margin of Error; Total: - $75,000 to $99,999</th>\n",
       "      <th>Margin of Error; Total: - Less than $10,000</th>\n",
       "      <th>Median Household Income</th>\n",
       "      <th>Median Household Income Count</th>\n",
       "      <th>PWSID</th>\n",
       "      <th>Per_Estimate; Total: - $10,000 to $14,999</th>\n",
       "      <th>Per_Estimate; Total: - $100,000 to $124,999</th>\n",
       "      <th>Per_Estimate; Total: - $125,000 to $149,999</th>\n",
       "      <th>Per_Estimate; Total: - $15,000 to $19,999</th>\n",
       "      <th>Per_Estimate; Total: - $150,000 to $199,999</th>\n",
       "      <th>Per_Estimate; Total: - $20,000 to $24,999</th>\n",
       "      <th>Per_Estimate; Total: - $200,000 or more</th>\n",
       "      <th>Per_Estimate; Total: - $25,000 to $29,999</th>\n",
       "      <th>Per_Estimate; Total: - $30,000 to $34,999</th>\n",
       "      <th>Per_Estimate; Total: - $35,000 to $39,999</th>\n",
       "      <th>Per_Estimate; Total: - $40,000 to $44,999</th>\n",
       "      <th>Per_Estimate; Total: - $45,000 to $49,999</th>\n",
       "      <th>Per_Estimate; Total: - $50,000 to $59,999</th>\n",
       "      <th>Per_Estimate; Total: - $60,000 to $74,999</th>\n",
       "      <th>Per_Estimate; Total: - $75,000 to $99,999</th>\n",
       "      <th>Per_Estimate; Total: - Less than $10,000</th>\n",
       "      <th>Per_Margin of Error; Total:</th>\n",
       "      <th>Per_Margin of Error; Total: - $10,000 to $14,999</th>\n",
       "      <th>Per_Margin of Error; Total: - $100,000 to $124,999</th>\n",
       "      <th>Per_Margin of Error; Total: - $125,000 to $149,999</th>\n",
       "      <th>Per_Margin of Error; Total: - $15,000 to $19,999</th>\n",
       "      <th>Per_Margin of Error; Total: - $150,000 to $199,999</th>\n",
       "      <th>Per_Margin of Error; Total: - $20,000 to $24,999</th>\n",
       "      <th>Per_Margin of Error; Total: - $200,000 or more</th>\n",
       "      <th>Per_Margin of Error; Total: - $25,000 to $29,999</th>\n",
       "      <th>Per_Margin of Error; Total: - $30,000 to $34,999</th>\n",
       "      <th>Per_Margin of Error; Total: - $35,000 to $39,999</th>\n",
       "      <th>Per_Margin of Error; Total: - $40,000 to $44,999</th>\n",
       "      <th>Per_Margin of Error; Total: - $45,000 to $49,999</th>\n",
       "      <th>Per_Margin of Error; Total: - $50,000 to $59,999</th>\n",
       "      <th>Per_Margin of Error; Total: - $60,000 to $74,999</th>\n",
       "      <th>Per_Margin of Error; Total: - $75,000 to $99,999</th>\n",
       "      <th>Per_Margin of Error; Total: - Less than $10,000</th>\n",
       "      <th>geometry</th>\n",
       "      <th>id</th>\n",
       "      <th>supplier_n</th>\n",
       "    </tr>\n",
       "  </thead>\n",
       "  <tbody>\n",
       "    <tr>\n",
       "      <th>0</th>\n",
       "      <td>23985</td>\n",
       "      <td>496</td>\n",
       "      <td>2737</td>\n",
       "      <td>2089</td>\n",
       "      <td>680</td>\n",
       "      <td>3561</td>\n",
       "      <td>740</td>\n",
       "      <td>3963</td>\n",
       "      <td>542</td>\n",
       "      <td>636</td>\n",
       "      <td>656</td>\n",
       "      <td>650</td>\n",
       "      <td>763</td>\n",
       "      <td>1507</td>\n",
       "      <td>1432</td>\n",
       "      <td>2916</td>\n",
       "      <td>617</td>\n",
       "      <td>3551</td>\n",
       "      <td>781</td>\n",
       "      <td>1757</td>\n",
       "      <td>1584</td>\n",
       "      <td>895</td>\n",
       "      <td>1981</td>\n",
       "      <td>943</td>\n",
       "      <td>1825</td>\n",
       "      <td>815</td>\n",
       "      <td>926</td>\n",
       "      <td>899</td>\n",
       "      <td>945</td>\n",
       "      <td>1059</td>\n",
       "      <td>1502</td>\n",
       "      <td>1301</td>\n",
       "      <td>2019</td>\n",
       "      <td>895</td>\n",
       "      <td>Estimate; Total: - $125,000 to $149,999</td>\n",
       "      <td>59.920784</td>\n",
       "      <td>CA0105008</td>\n",
       "      <td>2.067959</td>\n",
       "      <td>11.411299</td>\n",
       "      <td>8.709610</td>\n",
       "      <td>2.835105</td>\n",
       "      <td>14.846779</td>\n",
       "      <td>3.085262</td>\n",
       "      <td>16.522827</td>\n",
       "      <td>2.259746</td>\n",
       "      <td>2.651657</td>\n",
       "      <td>2.735043</td>\n",
       "      <td>2.710027</td>\n",
       "      <td>3.181155</td>\n",
       "      <td>6.283094</td>\n",
       "      <td>5.970398</td>\n",
       "      <td>12.157598</td>\n",
       "      <td>2.572441</td>\n",
       "      <td>14.805087</td>\n",
       "      <td>3.256202</td>\n",
       "      <td>7.325412</td>\n",
       "      <td>6.604128</td>\n",
       "      <td>3.731499</td>\n",
       "      <td>8.259329</td>\n",
       "      <td>3.931624</td>\n",
       "      <td>7.608922</td>\n",
       "      <td>3.397957</td>\n",
       "      <td>3.860746</td>\n",
       "      <td>3.748176</td>\n",
       "      <td>3.939962</td>\n",
       "      <td>4.415260</td>\n",
       "      <td>6.262247</td>\n",
       "      <td>5.424223</td>\n",
       "      <td>8.417761</td>\n",
       "      <td>3.731499</td>\n",
       "      <td>(POLYGON ((-121.804593 37.700265, -121.804565 ...</td>\n",
       "      <td>0</td>\n",
       "      <td>California Water Service Company Livermore</td>\n",
       "    </tr>\n",
       "    <tr>\n",
       "      <th>1</th>\n",
       "      <td>105006</td>\n",
       "      <td>2329</td>\n",
       "      <td>13440</td>\n",
       "      <td>10169</td>\n",
       "      <td>1894</td>\n",
       "      <td>14691</td>\n",
       "      <td>2571</td>\n",
       "      <td>17365</td>\n",
       "      <td>2556</td>\n",
       "      <td>2540</td>\n",
       "      <td>2487</td>\n",
       "      <td>2484</td>\n",
       "      <td>2646</td>\n",
       "      <td>5453</td>\n",
       "      <td>7825</td>\n",
       "      <td>13910</td>\n",
       "      <td>2646</td>\n",
       "      <td>15484</td>\n",
       "      <td>3485</td>\n",
       "      <td>8539</td>\n",
       "      <td>7341</td>\n",
       "      <td>3283</td>\n",
       "      <td>8776</td>\n",
       "      <td>3785</td>\n",
       "      <td>8564</td>\n",
       "      <td>3815</td>\n",
       "      <td>3736</td>\n",
       "      <td>3695</td>\n",
       "      <td>3607</td>\n",
       "      <td>3777</td>\n",
       "      <td>5276</td>\n",
       "      <td>6584</td>\n",
       "      <td>8638</td>\n",
       "      <td>3696</td>\n",
       "      <td>Estimate; Total: - $125,000 to $149,999</td>\n",
       "      <td>59.788012</td>\n",
       "      <td>CA0110001</td>\n",
       "      <td>2.217968</td>\n",
       "      <td>12.799269</td>\n",
       "      <td>9.684209</td>\n",
       "      <td>1.803706</td>\n",
       "      <td>13.990629</td>\n",
       "      <td>2.448432</td>\n",
       "      <td>16.537150</td>\n",
       "      <td>2.434147</td>\n",
       "      <td>2.418909</td>\n",
       "      <td>2.368436</td>\n",
       "      <td>2.365579</td>\n",
       "      <td>2.519856</td>\n",
       "      <td>5.193037</td>\n",
       "      <td>7.451955</td>\n",
       "      <td>13.246862</td>\n",
       "      <td>2.519856</td>\n",
       "      <td>14.745824</td>\n",
       "      <td>3.318858</td>\n",
       "      <td>8.131916</td>\n",
       "      <td>6.991029</td>\n",
       "      <td>3.126488</td>\n",
       "      <td>8.357618</td>\n",
       "      <td>3.604556</td>\n",
       "      <td>8.155724</td>\n",
       "      <td>3.633126</td>\n",
       "      <td>3.557892</td>\n",
       "      <td>3.518847</td>\n",
       "      <td>3.435042</td>\n",
       "      <td>3.596937</td>\n",
       "      <td>5.024475</td>\n",
       "      <td>6.270118</td>\n",
       "      <td>8.226197</td>\n",
       "      <td>3.519799</td>\n",
       "      <td>(POLYGON ((-121.982972 37.461373, -121.983554 ...</td>\n",
       "      <td>1</td>\n",
       "      <td>Alameda County Water District</td>\n",
       "    </tr>\n",
       "    <tr>\n",
       "      <th>2</th>\n",
       "      <td>493650</td>\n",
       "      <td>23899</td>\n",
       "      <td>45448</td>\n",
       "      <td>32698</td>\n",
       "      <td>18468</td>\n",
       "      <td>43230</td>\n",
       "      <td>19548</td>\n",
       "      <td>63268</td>\n",
       "      <td>17706</td>\n",
       "      <td>18106</td>\n",
       "      <td>16696</td>\n",
       "      <td>17868</td>\n",
       "      <td>16215</td>\n",
       "      <td>32233</td>\n",
       "      <td>43143</td>\n",
       "      <td>56960</td>\n",
       "      <td>28164</td>\n",
       "      <td>83579</td>\n",
       "      <td>25971</td>\n",
       "      <td>35268</td>\n",
       "      <td>29774</td>\n",
       "      <td>23156</td>\n",
       "      <td>32682</td>\n",
       "      <td>23933</td>\n",
       "      <td>34686</td>\n",
       "      <td>23003</td>\n",
       "      <td>23019</td>\n",
       "      <td>22334</td>\n",
       "      <td>23084</td>\n",
       "      <td>21918</td>\n",
       "      <td>31006</td>\n",
       "      <td>35505</td>\n",
       "      <td>40627</td>\n",
       "      <td>28071</td>\n",
       "      <td>Estimate; Total: - $75,000 to $99,999</td>\n",
       "      <td>51.057632</td>\n",
       "      <td>CA0110005</td>\n",
       "      <td>4.841284</td>\n",
       "      <td>9.206523</td>\n",
       "      <td>6.623721</td>\n",
       "      <td>3.741112</td>\n",
       "      <td>8.757217</td>\n",
       "      <td>3.959891</td>\n",
       "      <td>12.816368</td>\n",
       "      <td>3.586752</td>\n",
       "      <td>3.667781</td>\n",
       "      <td>3.382153</td>\n",
       "      <td>3.619569</td>\n",
       "      <td>3.284716</td>\n",
       "      <td>6.529525</td>\n",
       "      <td>8.739593</td>\n",
       "      <td>11.538539</td>\n",
       "      <td>5.705257</td>\n",
       "      <td>16.930821</td>\n",
       "      <td>5.261015</td>\n",
       "      <td>7.144333</td>\n",
       "      <td>6.031399</td>\n",
       "      <td>4.690773</td>\n",
       "      <td>6.620480</td>\n",
       "      <td>4.848172</td>\n",
       "      <td>7.026436</td>\n",
       "      <td>4.659779</td>\n",
       "      <td>4.663020</td>\n",
       "      <td>4.524258</td>\n",
       "      <td>4.676188</td>\n",
       "      <td>4.439988</td>\n",
       "      <td>6.280968</td>\n",
       "      <td>7.192343</td>\n",
       "      <td>8.229920</td>\n",
       "      <td>5.686418</td>\n",
       "      <td>(POLYGON ((-122.233011 38.021545, -122.228697 ...</td>\n",
       "      <td>2</td>\n",
       "      <td>East Bay Municipal Utilities District</td>\n",
       "    </tr>\n",
       "  </tbody>\n",
       "</table>\n",
       "</div>"
      ],
      "text/plain": [
       "   Estimate; Total:  Estimate; Total: - $10,000 to $14,999  Estimate; Total: - $100,000 to $124,999  Estimate; Total: - $125,000 to $149,999  Estimate; Total: - $15,000 to $19,999  Estimate; Total: - $150,000 to $199,999  Estimate; Total: - $20,000 to $24,999  Estimate; Total: - $200,000 or more  Estimate; Total: - $25,000 to $29,999  Estimate; Total: - $30,000 to $34,999  Estimate; Total: - $35,000 to $39,999  Estimate; Total: - $40,000 to $44,999  Estimate; Total: - $45,000 to $49,999  Estimate; Total: - $50,000 to $59,999  Estimate; Total: - $60,000 to $74,999  Estimate; Total: - $75,000 to $99,999  Estimate; Total: - Less than $10,000  Margin of Error; Total:  Margin of Error; Total: - $10,000 to $14,999  Margin of Error; Total: - $100,000 to $124,999  Margin of Error; Total: - $125,000 to $149,999  Margin of Error; Total: - $15,000 to $19,999  Margin of Error; Total: - $150,000 to $199,999  Margin of Error; Total: - $20,000 to $24,999  Margin of Error; Total: - $200,000 or more  \\\n",
       "0             23985                                    496                                     2737                                     2089                                    680                                     3561                                    740                                 3963                                    542                                    636                                    656                                    650                                    763                                   1507                                   1432                                   2916                                   617                     3551                                           781                                            1757                                            1584                                           895                                            1981                                           943                                        1825   \n",
       "1            105006                                   2329                                    13440                                    10169                                   1894                                    14691                                   2571                                17365                                   2556                                   2540                                   2487                                   2484                                   2646                                   5453                                   7825                                  13910                                  2646                    15484                                          3485                                            8539                                            7341                                          3283                                            8776                                          3785                                        8564   \n",
       "2            493650                                  23899                                    45448                                    32698                                  18468                                    43230                                  19548                                63268                                  17706                                  18106                                  16696                                  17868                                  16215                                  32233                                  43143                                  56960                                 28164                    83579                                         25971                                           35268                                           29774                                         23156                                           32682                                         23933                                       34686   \n",
       "\n",
       "   Margin of Error; Total: - $25,000 to $29,999  Margin of Error; Total: - $30,000 to $34,999  Margin of Error; Total: - $35,000 to $39,999  Margin of Error; Total: - $40,000 to $44,999  Margin of Error; Total: - $45,000 to $49,999  Margin of Error; Total: - $50,000 to $59,999  Margin of Error; Total: - $60,000 to $74,999  Margin of Error; Total: - $75,000 to $99,999  Margin of Error; Total: - Less than $10,000                  Median Household Income  Median Household Income Count      PWSID  Per_Estimate; Total: - $10,000 to $14,999  Per_Estimate; Total: - $100,000 to $124,999  Per_Estimate; Total: - $125,000 to $149,999  Per_Estimate; Total: - $15,000 to $19,999  Per_Estimate; Total: - $150,000 to $199,999  Per_Estimate; Total: - $20,000 to $24,999  Per_Estimate; Total: - $200,000 or more  Per_Estimate; Total: - $25,000 to $29,999  Per_Estimate; Total: - $30,000 to $34,999  Per_Estimate; Total: - $35,000 to $39,999  Per_Estimate; Total: - $40,000 to $44,999  \\\n",
       "0                                           815                                           926                                           899                                           945                                          1059                                          1502                                          1301                                          2019                                          895  Estimate; Total: - $125,000 to $149,999                      59.920784  CA0105008                                   2.067959                                    11.411299                                     8.709610                                   2.835105                                    14.846779                                   3.085262                                16.522827                                   2.259746                                   2.651657                                   2.735043                                   2.710027   \n",
       "1                                          3815                                          3736                                          3695                                          3607                                          3777                                          5276                                          6584                                          8638                                         3696  Estimate; Total: - $125,000 to $149,999                      59.788012  CA0110001                                   2.217968                                    12.799269                                     9.684209                                   1.803706                                    13.990629                                   2.448432                                16.537150                                   2.434147                                   2.418909                                   2.368436                                   2.365579   \n",
       "2                                         23003                                         23019                                         22334                                         23084                                         21918                                         31006                                         35505                                         40627                                        28071    Estimate; Total: - $75,000 to $99,999                      51.057632  CA0110005                                   4.841284                                     9.206523                                     6.623721                                   3.741112                                     8.757217                                   3.959891                                12.816368                                   3.586752                                   3.667781                                   3.382153                                   3.619569   \n",
       "\n",
       "   Per_Estimate; Total: - $45,000 to $49,999  Per_Estimate; Total: - $50,000 to $59,999  Per_Estimate; Total: - $60,000 to $74,999  Per_Estimate; Total: - $75,000 to $99,999  Per_Estimate; Total: - Less than $10,000  Per_Margin of Error; Total:  Per_Margin of Error; Total: - $10,000 to $14,999  Per_Margin of Error; Total: - $100,000 to $124,999  Per_Margin of Error; Total: - $125,000 to $149,999  Per_Margin of Error; Total: - $15,000 to $19,999  Per_Margin of Error; Total: - $150,000 to $199,999  Per_Margin of Error; Total: - $20,000 to $24,999  Per_Margin of Error; Total: - $200,000 or more  Per_Margin of Error; Total: - $25,000 to $29,999  Per_Margin of Error; Total: - $30,000 to $34,999  Per_Margin of Error; Total: - $35,000 to $39,999  Per_Margin of Error; Total: - $40,000 to $44,999  Per_Margin of Error; Total: - $45,000 to $49,999  Per_Margin of Error; Total: - $50,000 to $59,999  Per_Margin of Error; Total: - $60,000 to $74,999  \\\n",
       "0                                   3.181155                                   6.283094                                   5.970398                                  12.157598                                  2.572441                    14.805087                                          3.256202                                           7.325412                                            6.604128                                           3.731499                                           8.259329                                           3.931624                                        7.608922                                          3.397957                                          3.860746                                          3.748176                                          3.939962                                          4.415260                                          6.262247                                          5.424223   \n",
       "1                                   2.519856                                   5.193037                                   7.451955                                  13.246862                                  2.519856                    14.745824                                          3.318858                                           8.131916                                            6.991029                                           3.126488                                           8.357618                                           3.604556                                        8.155724                                          3.633126                                          3.557892                                          3.518847                                          3.435042                                          3.596937                                          5.024475                                          6.270118   \n",
       "2                                   3.284716                                   6.529525                                   8.739593                                  11.538539                                  5.705257                    16.930821                                          5.261015                                           7.144333                                            6.031399                                           4.690773                                           6.620480                                           4.848172                                        7.026436                                          4.659779                                          4.663020                                          4.524258                                          4.676188                                          4.439988                                          6.280968                                          7.192343   \n",
       "\n",
       "   Per_Margin of Error; Total: - $75,000 to $99,999  Per_Margin of Error; Total: - Less than $10,000                                           geometry id                                  supplier_n  \n",
       "0                                          8.417761                                         3.731499  (POLYGON ((-121.804593 37.700265, -121.804565 ...  0  California Water Service Company Livermore  \n",
       "1                                          8.226197                                         3.519799  (POLYGON ((-121.982972 37.461373, -121.983554 ...  1               Alameda County Water District  \n",
       "2                                          8.229920                                         5.686418  (POLYGON ((-122.233011 38.021545, -122.228697 ...  2       East Bay Municipal Utilities District  "
      ]
     },
     "execution_count": 4,
     "metadata": {},
     "output_type": "execute_result"
    }
   ],
   "source": [
    "inc.head(3)"
   ]
  },
  {
   "cell_type": "code",
   "execution_count": 5,
   "metadata": {
    "collapsed": false
   },
   "outputs": [],
   "source": [
    "total_col = [u'Estimate; Total:',\n",
    " u'Estimate; Total: - Less than $10,000',\n",
    " u'Estimate; Total: - $10,000 to $14,999',\n",
    " u'Estimate; Total: - $15,000 to $19,999',\n",
    " u'Estimate; Total: - $20,000 to $24,999',\n",
    " u'Estimate; Total: - $25,000 to $29,999',\n",
    " u'Estimate; Total: - $30,000 to $34,999',\n",
    " u'Estimate; Total: - $35,000 to $39,999',\n",
    " u'Estimate; Total: - $40,000 to $44,999',\n",
    " u'Estimate; Total: - $45,000 to $49,999',\n",
    " u'Estimate; Total: - $50,000 to $59,999',\n",
    " u'Estimate; Total: - $60,000 to $74,999',\n",
    " u'Estimate; Total: - $75,000 to $99,999',\n",
    " u'Estimate; Total: - $100,000 to $124,999',\n",
    " u'Estimate; Total: - $125,000 to $149,999',\n",
    " u'Estimate; Total: - $150,000 to $199,999',\n",
    " u'Estimate; Total: - $200,000 or more',\n",
    " u'PWSID',\n",
    "]"
   ]
  },
  {
   "cell_type": "code",
   "execution_count": 6,
   "metadata": {
    "collapsed": false,
    "scrolled": true
   },
   "outputs": [],
   "source": [
    "tot_in = inc[total_col]"
   ]
  },
  {
   "cell_type": "code",
   "execution_count": 7,
   "metadata": {
    "collapsed": false
   },
   "outputs": [
    {
     "data": {
      "text/plain": [
       "(401L,)"
      ]
     },
     "execution_count": 7,
     "metadata": {},
     "output_type": "execute_result"
    }
   ],
   "source": [
    "tot_in[u'Estimate; Total:'].shape"
   ]
  },
  {
   "cell_type": "code",
   "execution_count": 8,
   "metadata": {
    "collapsed": false,
    "scrolled": true
   },
   "outputs": [
    {
     "data": {
      "text/plain": [
       "(401, 18)"
      ]
     },
     "execution_count": 8,
     "metadata": {},
     "output_type": "execute_result"
    }
   ],
   "source": [
    "tot_in.shape"
   ]
  },
  {
   "cell_type": "code",
   "execution_count": 9,
   "metadata": {
    "collapsed": false
   },
   "outputs": [
    {
     "data": {
      "text/plain": [
       "Estimate; Total:                            int64\n",
       "Estimate; Total: - Less than $10,000        int64\n",
       "Estimate; Total: - $10,000 to $14,999       int64\n",
       "Estimate; Total: - $15,000 to $19,999       int64\n",
       "Estimate; Total: - $20,000 to $24,999       int64\n",
       "Estimate; Total: - $25,000 to $29,999       int64\n",
       "Estimate; Total: - $30,000 to $34,999       int64\n",
       "Estimate; Total: - $35,000 to $39,999       int64\n",
       "Estimate; Total: - $40,000 to $44,999       int64\n",
       "Estimate; Total: - $45,000 to $49,999       int64\n",
       "Estimate; Total: - $50,000 to $59,999       int64\n",
       "Estimate; Total: - $60,000 to $74,999       int64\n",
       "Estimate; Total: - $75,000 to $99,999       int64\n",
       "Estimate; Total: - $100,000 to $124,999     int64\n",
       "Estimate; Total: - $125,000 to $149,999     int64\n",
       "Estimate; Total: - $150,000 to $199,999     int64\n",
       "Estimate; Total: - $200,000 or more         int64\n",
       "PWSID                                      object\n",
       "dtype: object"
      ]
     },
     "execution_count": 9,
     "metadata": {},
     "output_type": "execute_result"
    }
   ],
   "source": [
    "tot_in.dtypes"
   ]
  },
  {
   "cell_type": "code",
   "execution_count": 10,
   "metadata": {
    "collapsed": true
   },
   "outputs": [],
   "source": [
    "nor_tot_in =tot_in.copy(deep = True)"
   ]
  },
  {
   "cell_type": "code",
   "execution_count": 11,
   "metadata": {
    "collapsed": false
   },
   "outputs": [],
   "source": [
    "for ind in tot_in.index:\n",
    "    nor_tot_in.loc[ind] = tot_in.loc[ind][:-1]/tot_in.loc[ind,u'Estimate; Total:']"
   ]
  },
  {
   "cell_type": "code",
   "execution_count": 12,
   "metadata": {
    "collapsed": false
   },
   "outputs": [
    {
     "data": {
      "text/html": [
       "<div>\n",
       "<table border=\"1\" class=\"dataframe\">\n",
       "  <thead>\n",
       "    <tr style=\"text-align: right;\">\n",
       "      <th></th>\n",
       "      <th>Estimate; Total:</th>\n",
       "      <th>Estimate; Total: - Less than $10,000</th>\n",
       "      <th>Estimate; Total: - $10,000 to $14,999</th>\n",
       "      <th>Estimate; Total: - $15,000 to $19,999</th>\n",
       "      <th>Estimate; Total: - $20,000 to $24,999</th>\n",
       "      <th>Estimate; Total: - $25,000 to $29,999</th>\n",
       "      <th>Estimate; Total: - $30,000 to $34,999</th>\n",
       "      <th>Estimate; Total: - $35,000 to $39,999</th>\n",
       "      <th>Estimate; Total: - $40,000 to $44,999</th>\n",
       "      <th>Estimate; Total: - $45,000 to $49,999</th>\n",
       "      <th>Estimate; Total: - $50,000 to $59,999</th>\n",
       "      <th>Estimate; Total: - $60,000 to $74,999</th>\n",
       "      <th>Estimate; Total: - $75,000 to $99,999</th>\n",
       "      <th>Estimate; Total: - $100,000 to $124,999</th>\n",
       "      <th>Estimate; Total: - $125,000 to $149,999</th>\n",
       "      <th>Estimate; Total: - $150,000 to $199,999</th>\n",
       "      <th>Estimate; Total: - $200,000 or more</th>\n",
       "      <th>PWSID</th>\n",
       "    </tr>\n",
       "  </thead>\n",
       "  <tbody>\n",
       "    <tr>\n",
       "      <th>0</th>\n",
       "      <td>1.0</td>\n",
       "      <td>0.025724</td>\n",
       "      <td>0.020680</td>\n",
       "      <td>0.028351</td>\n",
       "      <td>0.030853</td>\n",
       "      <td>0.022597</td>\n",
       "      <td>0.026517</td>\n",
       "      <td>0.027350</td>\n",
       "      <td>0.027100</td>\n",
       "      <td>0.031812</td>\n",
       "      <td>0.062831</td>\n",
       "      <td>0.059704</td>\n",
       "      <td>0.121576</td>\n",
       "      <td>0.114113</td>\n",
       "      <td>0.087096</td>\n",
       "      <td>0.148468</td>\n",
       "      <td>0.165228</td>\n",
       "      <td>CA0105008</td>\n",
       "    </tr>\n",
       "    <tr>\n",
       "      <th>1</th>\n",
       "      <td>1.0</td>\n",
       "      <td>0.025199</td>\n",
       "      <td>0.022180</td>\n",
       "      <td>0.018037</td>\n",
       "      <td>0.024484</td>\n",
       "      <td>0.024341</td>\n",
       "      <td>0.024189</td>\n",
       "      <td>0.023684</td>\n",
       "      <td>0.023656</td>\n",
       "      <td>0.025199</td>\n",
       "      <td>0.051930</td>\n",
       "      <td>0.074520</td>\n",
       "      <td>0.132469</td>\n",
       "      <td>0.127993</td>\n",
       "      <td>0.096842</td>\n",
       "      <td>0.139906</td>\n",
       "      <td>0.165372</td>\n",
       "      <td>CA0110001</td>\n",
       "    </tr>\n",
       "    <tr>\n",
       "      <th>2</th>\n",
       "      <td>1.0</td>\n",
       "      <td>0.057053</td>\n",
       "      <td>0.048413</td>\n",
       "      <td>0.037411</td>\n",
       "      <td>0.039599</td>\n",
       "      <td>0.035868</td>\n",
       "      <td>0.036678</td>\n",
       "      <td>0.033822</td>\n",
       "      <td>0.036196</td>\n",
       "      <td>0.032847</td>\n",
       "      <td>0.065295</td>\n",
       "      <td>0.087396</td>\n",
       "      <td>0.115385</td>\n",
       "      <td>0.092065</td>\n",
       "      <td>0.066237</td>\n",
       "      <td>0.087572</td>\n",
       "      <td>0.128164</td>\n",
       "      <td>CA0110005</td>\n",
       "    </tr>\n",
       "    <tr>\n",
       "      <th>3</th>\n",
       "      <td>1.0</td>\n",
       "      <td>0.048123</td>\n",
       "      <td>0.042155</td>\n",
       "      <td>0.046753</td>\n",
       "      <td>0.037900</td>\n",
       "      <td>0.034817</td>\n",
       "      <td>0.040893</td>\n",
       "      <td>0.038549</td>\n",
       "      <td>0.041470</td>\n",
       "      <td>0.042263</td>\n",
       "      <td>0.078703</td>\n",
       "      <td>0.112311</td>\n",
       "      <td>0.136760</td>\n",
       "      <td>0.108994</td>\n",
       "      <td>0.064927</td>\n",
       "      <td>0.069832</td>\n",
       "      <td>0.055552</td>\n",
       "      <td>CA0110006</td>\n",
       "    </tr>\n",
       "    <tr>\n",
       "      <th>4</th>\n",
       "      <td>1.0</td>\n",
       "      <td>0.022975</td>\n",
       "      <td>0.020479</td>\n",
       "      <td>0.018070</td>\n",
       "      <td>0.019189</td>\n",
       "      <td>0.020866</td>\n",
       "      <td>0.017468</td>\n",
       "      <td>0.019189</td>\n",
       "      <td>0.020178</td>\n",
       "      <td>0.016564</td>\n",
       "      <td>0.036441</td>\n",
       "      <td>0.062729</td>\n",
       "      <td>0.107086</td>\n",
       "      <td>0.112722</td>\n",
       "      <td>0.099213</td>\n",
       "      <td>0.154025</td>\n",
       "      <td>0.252807</td>\n",
       "      <td>CA0110008</td>\n",
       "    </tr>\n",
       "  </tbody>\n",
       "</table>\n",
       "</div>"
      ],
      "text/plain": [
       "   Estimate; Total:  Estimate; Total: - Less than $10,000  Estimate; Total: - $10,000 to $14,999  Estimate; Total: - $15,000 to $19,999  Estimate; Total: - $20,000 to $24,999  Estimate; Total: - $25,000 to $29,999  Estimate; Total: - $30,000 to $34,999  Estimate; Total: - $35,000 to $39,999  Estimate; Total: - $40,000 to $44,999  Estimate; Total: - $45,000 to $49,999  Estimate; Total: - $50,000 to $59,999  Estimate; Total: - $60,000 to $74,999  Estimate; Total: - $75,000 to $99,999  Estimate; Total: - $100,000 to $124,999  Estimate; Total: - $125,000 to $149,999  Estimate; Total: - $150,000 to $199,999  Estimate; Total: - $200,000 or more      PWSID\n",
       "0               1.0                              0.025724                               0.020680                               0.028351                               0.030853                               0.022597                               0.026517                               0.027350                               0.027100                               0.031812                               0.062831                               0.059704                               0.121576                                 0.114113                                 0.087096                                 0.148468                             0.165228  CA0105008\n",
       "1               1.0                              0.025199                               0.022180                               0.018037                               0.024484                               0.024341                               0.024189                               0.023684                               0.023656                               0.025199                               0.051930                               0.074520                               0.132469                                 0.127993                                 0.096842                                 0.139906                             0.165372  CA0110001\n",
       "2               1.0                              0.057053                               0.048413                               0.037411                               0.039599                               0.035868                               0.036678                               0.033822                               0.036196                               0.032847                               0.065295                               0.087396                               0.115385                                 0.092065                                 0.066237                                 0.087572                             0.128164  CA0110005\n",
       "3               1.0                              0.048123                               0.042155                               0.046753                               0.037900                               0.034817                               0.040893                               0.038549                               0.041470                               0.042263                               0.078703                               0.112311                               0.136760                                 0.108994                                 0.064927                                 0.069832                             0.055552  CA0110006\n",
       "4               1.0                              0.022975                               0.020479                               0.018070                               0.019189                               0.020866                               0.017468                               0.019189                               0.020178                               0.016564                               0.036441                               0.062729                               0.107086                                 0.112722                                 0.099213                                 0.154025                             0.252807  CA0110008"
      ]
     },
     "execution_count": 12,
     "metadata": {},
     "output_type": "execute_result"
    }
   ],
   "source": [
    "nor_tot_in['PWSID'] = tot_in['PWSID'] \n",
    "nor_tot_in.head()"
   ]
  },
  {
   "cell_type": "code",
   "execution_count": 13,
   "metadata": {
    "collapsed": false
   },
   "outputs": [
    {
     "data": {
      "text/plain": [
       "[1.0, 0.9999999999999998, 0.9999999999999999, 1.0000000000000002]"
      ]
     },
     "execution_count": 13,
     "metadata": {},
     "output_type": "execute_result"
    }
   ],
   "source": [
    "nor_tot_in.iloc[::,1::].sum(axis=1).unique().tolist()"
   ]
  },
  {
   "cell_type": "code",
   "execution_count": 14,
   "metadata": {
    "collapsed": false
   },
   "outputs": [
    {
     "data": {
      "text/plain": [
       "16"
      ]
     },
     "execution_count": 14,
     "metadata": {},
     "output_type": "execute_result"
    }
   ],
   "source": [
    "nor_tot_in.iloc[::,1::].shape[1]-1"
   ]
  },
  {
   "cell_type": "code",
   "execution_count": 15,
   "metadata": {
    "collapsed": false
   },
   "outputs": [
    {
     "data": {
      "text/plain": [
       "[0, 1, 2, 3, 4, 5, 6, 7, 8, 9, 10, 11, 12, 13, 14, 15, 16]"
      ]
     },
     "execution_count": 15,
     "metadata": {},
     "output_type": "execute_result"
    }
   ],
   "source": [
    "range(nor_tot_in.iloc[::,1::].shape[1])"
   ]
  },
  {
   "cell_type": "code",
   "execution_count": 16,
   "metadata": {
    "collapsed": false
   },
   "outputs": [],
   "source": [
    "nor_tot_in['Medium'] = ''\n",
    "nor_tot_in['Medium_val'] = np.nan\n",
    "cat = nor_tot_in.iloc[::,1::].shape[1]-3\n",
    "thecol= nor_tot_in.iloc[::,1::].columns.tolist()\n",
    "for i in nor_tot_in.iloc[::,1::].index:\n",
    "    #print 'index', i\n",
    "    for bra in range(cat+1):\n",
    "        #print 'cat', bra\n",
    "        #print bra\n",
    "        if nor_tot_in.loc[i,u'Estimate; Total: - $200,000 or more']>= 0.5:\n",
    "            nor_tot_in.loc[i,'Medium'] = u'Estimate; Total: - $200,000 or more'\n",
    "            nor_tot_in.loc[i,'Medium_val'] = nor_tot_in.loc[i,u'Estimate; Total: - $200,000 or more']\n",
    "            break\n",
    "\n",
    "        if nor_tot_in.loc[i][1:bra].sum() >= 0.5:\n",
    "            nor_tot_in.loc[i,'Medium'] = thecol[bra-2]\n",
    "            #print thecol[bra-2], '==', nor_tot_in.loc[i][bra-1:bra].index[0]\n",
    "            nor_tot_in.loc[i,'Medium_val'] = nor_tot_in.loc[i][1:bra].sum()\n",
    "            break"
   ]
  },
  {
   "cell_type": "code",
   "execution_count": 17,
   "metadata": {
    "collapsed": false
   },
   "outputs": [
    {
     "data": {
      "text/plain": [
       "[u'Estimate; Total: - $100,000 to $124,999',\n",
       " u'Estimate; Total: - $60,000 to $74,999',\n",
       " u'Estimate; Total: - $125,000 to $149,999',\n",
       " u'Estimate; Total: - $75,000 to $99,999',\n",
       " u'Estimate; Total: - $40,000 to $44,999',\n",
       " u'Estimate; Total: - $25,000 to $29,999',\n",
       " u'Estimate; Total: - $45,000 to $49,999',\n",
       " u'Estimate; Total: - $50,000 to $59,999',\n",
       " u'Estimate; Total: - $30,000 to $34,999',\n",
       " u'Estimate; Total: - $35,000 to $39,999',\n",
       " u'Estimate; Total: - $150,000 to $199,999',\n",
       " u'Estimate; Total: - $15,000 to $19,999',\n",
       " u'Estimate; Total: - $20,000 to $24,999',\n",
       " u'Estimate; Total: - $200,000 or more']"
      ]
     },
     "execution_count": 17,
     "metadata": {},
     "output_type": "execute_result"
    }
   ],
   "source": [
    "nor_tot_in['Medium'].unique().tolist()"
   ]
  },
  {
   "cell_type": "code",
   "execution_count": 18,
   "metadata": {
    "collapsed": false
   },
   "outputs": [
    {
     "data": {
      "text/html": [
       "<div>\n",
       "<table border=\"1\" class=\"dataframe\">\n",
       "  <thead>\n",
       "    <tr style=\"text-align: right;\">\n",
       "      <th></th>\n",
       "      <th>Estimate; Total:</th>\n",
       "    </tr>\n",
       "    <tr>\n",
       "      <th>Medium</th>\n",
       "      <th></th>\n",
       "    </tr>\n",
       "  </thead>\n",
       "  <tbody>\n",
       "    <tr>\n",
       "      <th>Estimate; Total: - $15,000 to $19,999</th>\n",
       "      <td>1</td>\n",
       "    </tr>\n",
       "    <tr>\n",
       "      <th>Estimate; Total: - $20,000 to $24,999</th>\n",
       "      <td>1</td>\n",
       "    </tr>\n",
       "    <tr>\n",
       "      <th>Estimate; Total: - $200,000 or more</th>\n",
       "      <td>1</td>\n",
       "    </tr>\n",
       "    <tr>\n",
       "      <th>Estimate; Total: - $150,000 to $199,999</th>\n",
       "      <td>3</td>\n",
       "    </tr>\n",
       "    <tr>\n",
       "      <th>Estimate; Total: - $25,000 to $29,999</th>\n",
       "      <td>7</td>\n",
       "    </tr>\n",
       "    <tr>\n",
       "      <th>Estimate; Total: - $125,000 to $149,999</th>\n",
       "      <td>8</td>\n",
       "    </tr>\n",
       "    <tr>\n",
       "      <th>Estimate; Total: - $30,000 to $34,999</th>\n",
       "      <td>14</td>\n",
       "    </tr>\n",
       "    <tr>\n",
       "      <th>Estimate; Total: - $35,000 to $39,999</th>\n",
       "      <td>32</td>\n",
       "    </tr>\n",
       "    <tr>\n",
       "      <th>Estimate; Total: - $40,000 to $44,999</th>\n",
       "      <td>33</td>\n",
       "    </tr>\n",
       "    <tr>\n",
       "      <th>Estimate; Total: - $45,000 to $49,999</th>\n",
       "      <td>36</td>\n",
       "    </tr>\n",
       "    <tr>\n",
       "      <th>Estimate; Total: - $100,000 to $124,999</th>\n",
       "      <td>37</td>\n",
       "    </tr>\n",
       "    <tr>\n",
       "      <th>Estimate; Total: - $50,000 to $59,999</th>\n",
       "      <td>73</td>\n",
       "    </tr>\n",
       "    <tr>\n",
       "      <th>Estimate; Total: - $60,000 to $74,999</th>\n",
       "      <td>77</td>\n",
       "    </tr>\n",
       "    <tr>\n",
       "      <th>Estimate; Total: - $75,000 to $99,999</th>\n",
       "      <td>78</td>\n",
       "    </tr>\n",
       "  </tbody>\n",
       "</table>\n",
       "</div>"
      ],
      "text/plain": [
       "                                         Estimate; Total:\n",
       "Medium                                                   \n",
       "Estimate; Total: - $15,000 to $19,999                   1\n",
       "Estimate; Total: - $20,000 to $24,999                   1\n",
       "Estimate; Total: - $200,000 or more                     1\n",
       "Estimate; Total: - $150,000 to $199,999                 3\n",
       "Estimate; Total: - $25,000 to $29,999                   7\n",
       "Estimate; Total: - $125,000 to $149,999                 8\n",
       "Estimate; Total: - $30,000 to $34,999                  14\n",
       "Estimate; Total: - $35,000 to $39,999                  32\n",
       "Estimate; Total: - $40,000 to $44,999                  33\n",
       "Estimate; Total: - $45,000 to $49,999                  36\n",
       "Estimate; Total: - $100,000 to $124,999                37\n",
       "Estimate; Total: - $50,000 to $59,999                  73\n",
       "Estimate; Total: - $60,000 to $74,999                  77\n",
       "Estimate; Total: - $75,000 to $99,999                  78"
      ]
     },
     "execution_count": 18,
     "metadata": {},
     "output_type": "execute_result"
    }
   ],
   "source": [
    "nor_tot_in.groupby('Medium').count().iloc[::,:1:].sort_values('Estimate; Total:')"
   ]
  },
  {
   "cell_type": "code",
   "execution_count": 19,
   "metadata": {
    "collapsed": false
   },
   "outputs": [
    {
     "data": {
      "text/html": [
       "<div>\n",
       "<table border=\"1\" class=\"dataframe\">\n",
       "  <thead>\n",
       "    <tr style=\"text-align: right;\">\n",
       "      <th></th>\n",
       "      <th>Estimate; Total:</th>\n",
       "      <th>Estimate; Total: - Less than $10,000</th>\n",
       "      <th>Estimate; Total: - $10,000 to $14,999</th>\n",
       "      <th>Estimate; Total: - $15,000 to $19,999</th>\n",
       "      <th>Estimate; Total: - $20,000 to $24,999</th>\n",
       "      <th>Estimate; Total: - $25,000 to $29,999</th>\n",
       "      <th>Estimate; Total: - $30,000 to $34,999</th>\n",
       "      <th>Estimate; Total: - $35,000 to $39,999</th>\n",
       "      <th>Estimate; Total: - $40,000 to $44,999</th>\n",
       "      <th>Estimate; Total: - $45,000 to $49,999</th>\n",
       "      <th>Estimate; Total: - $50,000 to $59,999</th>\n",
       "      <th>Estimate; Total: - $60,000 to $74,999</th>\n",
       "      <th>Estimate; Total: - $75,000 to $99,999</th>\n",
       "      <th>Estimate; Total: - $100,000 to $124,999</th>\n",
       "      <th>Estimate; Total: - $125,000 to $149,999</th>\n",
       "      <th>Estimate; Total: - $150,000 to $199,999</th>\n",
       "      <th>Estimate; Total: - $200,000 or more</th>\n",
       "      <th>PWSID</th>\n",
       "      <th>Medium</th>\n",
       "      <th>Medium_val</th>\n",
       "    </tr>\n",
       "  </thead>\n",
       "  <tbody>\n",
       "    <tr>\n",
       "      <th>131</th>\n",
       "      <td>1.0</td>\n",
       "      <td>0.0</td>\n",
       "      <td>0.0</td>\n",
       "      <td>0.5</td>\n",
       "      <td>0.0</td>\n",
       "      <td>0.0</td>\n",
       "      <td>0.035714</td>\n",
       "      <td>0.107143</td>\n",
       "      <td>0.035714</td>\n",
       "      <td>0.0</td>\n",
       "      <td>0.0</td>\n",
       "      <td>0.035714</td>\n",
       "      <td>0.071429</td>\n",
       "      <td>0.035714</td>\n",
       "      <td>0.142857</td>\n",
       "      <td>0.0</td>\n",
       "      <td>0.035714</td>\n",
       "      <td>CA1910167</td>\n",
       "      <td>Estimate; Total: - $15,000 to $19,999</td>\n",
       "      <td>0.5</td>\n",
       "    </tr>\n",
       "  </tbody>\n",
       "</table>\n",
       "</div>"
      ],
      "text/plain": [
       "     Estimate; Total:  Estimate; Total: - Less than $10,000  Estimate; Total: - $10,000 to $14,999  Estimate; Total: - $15,000 to $19,999  Estimate; Total: - $20,000 to $24,999  Estimate; Total: - $25,000 to $29,999  Estimate; Total: - $30,000 to $34,999  Estimate; Total: - $35,000 to $39,999  Estimate; Total: - $40,000 to $44,999  Estimate; Total: - $45,000 to $49,999  Estimate; Total: - $50,000 to $59,999  Estimate; Total: - $60,000 to $74,999  Estimate; Total: - $75,000 to $99,999  Estimate; Total: - $100,000 to $124,999  Estimate; Total: - $125,000 to $149,999  Estimate; Total: - $150,000 to $199,999  Estimate; Total: - $200,000 or more      PWSID                                 Medium  Medium_val\n",
       "131               1.0                                   0.0                                    0.0                                    0.5                                    0.0                                    0.0                               0.035714                               0.107143                               0.035714                                    0.0                                    0.0                               0.035714                               0.071429                                 0.035714                                 0.142857                                      0.0                             0.035714  CA1910167  Estimate; Total: - $15,000 to $19,999         0.5"
      ]
     },
     "execution_count": 19,
     "metadata": {},
     "output_type": "execute_result"
    }
   ],
   "source": [
    "nor_tot_in[nor_tot_in.Medium==u'Estimate; Total: - $15,000 to $19,999']"
   ]
  },
  {
   "cell_type": "code",
   "execution_count": 20,
   "metadata": {
    "collapsed": true
   },
   "outputs": [],
   "source": [
    "sup = pd.read_csv('Census_Data/supplier_report.csv')"
   ]
  },
  {
   "cell_type": "code",
   "execution_count": 21,
   "metadata": {
    "collapsed": false
   },
   "outputs": [
    {
     "data": {
      "text/html": [
       "<div>\n",
       "<table border=\"1\" class=\"dataframe\">\n",
       "  <thead>\n",
       "    <tr style=\"text-align: right;\">\n",
       "      <th></th>\n",
       "      <th>report_id</th>\n",
       "      <th>report_agency_name</th>\n",
       "      <th>report_pwsid</th>\n",
       "      <th>report_hydrologic_region</th>\n",
       "      <th>report_county</th>\n",
       "      <th>report_date</th>\n",
       "      <th>report_month</th>\n",
       "      <th>report_year</th>\n",
       "      <th>report_days_in_month</th>\n",
       "      <th>report_has_restrictions</th>\n",
       "      <th>report_days_allowed_per_week</th>\n",
       "      <th>report_actions_implemented</th>\n",
       "      <th>report_total_production_af</th>\n",
       "      <th>report_total_production_af_2013</th>\n",
       "      <th>report_cii_production_af</th>\n",
       "      <th>report_ag_production_af</th>\n",
       "      <th>report_ag_production_af_2013</th>\n",
       "      <th>report_recycled_production_af</th>\n",
       "      <th>report_non_revenue_production_af</th>\n",
       "      <th>report_population</th>\n",
       "      <th>report_percent_residential</th>\n",
       "      <th>report_gpcd_reported</th>\n",
       "      <th>report_gpcd_calculated</th>\n",
       "      <th>report_ag_cert</th>\n",
       "      <th>report_production_calculated</th>\n",
       "      <th>report_production_calculated_2013</th>\n",
       "      <th>report_percent_reduction</th>\n",
       "      <th>report_complaints</th>\n",
       "      <th>report_followups</th>\n",
       "      <th>report_warnings</th>\n",
       "      <th>report_penalties_rate</th>\n",
       "      <th>report_penalties_other</th>\n",
       "      <th>report_id_provided</th>\n",
       "      <th>report_irr_area_sf</th>\n",
       "      <th>report_eto</th>\n",
       "      <th>utility_id</th>\n",
       "    </tr>\n",
       "  </thead>\n",
       "  <tbody>\n",
       "    <tr>\n",
       "      <th>0</th>\n",
       "      <td>55695</td>\n",
       "      <td>Corcoran, City of</td>\n",
       "      <td>CA1610004</td>\n",
       "      <td>Tulare Lake</td>\n",
       "      <td>NaN</td>\n",
       "      <td>2017-02-15</td>\n",
       "      <td>2</td>\n",
       "      <td>2017</td>\n",
       "      <td>28</td>\n",
       "      <td>t</td>\n",
       "      <td>NaN</td>\n",
       "      <td>NaN</td>\n",
       "      <td>81.69</td>\n",
       "      <td>111.38</td>\n",
       "      <td>44.00</td>\n",
       "      <td>0.0</td>\n",
       "      <td>0.0</td>\n",
       "      <td>0.0</td>\n",
       "      <td>NaN</td>\n",
       "      <td>24154</td>\n",
       "      <td>0.85</td>\n",
       "      <td>NaN</td>\n",
       "      <td>102.669</td>\n",
       "      <td>f</td>\n",
       "      <td>81690000.0</td>\n",
       "      <td>111380000.0</td>\n",
       "      <td>0.2666</td>\n",
       "      <td>0</td>\n",
       "      <td>0</td>\n",
       "      <td>0</td>\n",
       "      <td>0</td>\n",
       "      <td>0</td>\n",
       "      <td>NaN</td>\n",
       "      <td>8692999.0</td>\n",
       "      <td>1.82513</td>\n",
       "      <td>258.0</td>\n",
       "    </tr>\n",
       "    <tr>\n",
       "      <th>1</th>\n",
       "      <td>55694</td>\n",
       "      <td>Corcoran, City of</td>\n",
       "      <td>CA1610004</td>\n",
       "      <td>Tulare Lake</td>\n",
       "      <td>NaN</td>\n",
       "      <td>2017-03-15</td>\n",
       "      <td>3</td>\n",
       "      <td>2017</td>\n",
       "      <td>31</td>\n",
       "      <td>t</td>\n",
       "      <td>NaN</td>\n",
       "      <td>NaN</td>\n",
       "      <td>104.72</td>\n",
       "      <td>145.28</td>\n",
       "      <td>43.20</td>\n",
       "      <td>0.0</td>\n",
       "      <td>0.0</td>\n",
       "      <td>0.0</td>\n",
       "      <td>NaN</td>\n",
       "      <td>24154</td>\n",
       "      <td>0.85</td>\n",
       "      <td>NaN</td>\n",
       "      <td>118.877</td>\n",
       "      <td>f</td>\n",
       "      <td>104720000.0</td>\n",
       "      <td>145280000.0</td>\n",
       "      <td>0.2792</td>\n",
       "      <td>0</td>\n",
       "      <td>0</td>\n",
       "      <td>0</td>\n",
       "      <td>0</td>\n",
       "      <td>0</td>\n",
       "      <td>NaN</td>\n",
       "      <td>8692999.0</td>\n",
       "      <td>3.91280</td>\n",
       "      <td>258.0</td>\n",
       "    </tr>\n",
       "    <tr>\n",
       "      <th>2</th>\n",
       "      <td>55693</td>\n",
       "      <td>Corcoran, City of</td>\n",
       "      <td>CA1610004</td>\n",
       "      <td>Tulare Lake</td>\n",
       "      <td>NaN</td>\n",
       "      <td>2017-04-15</td>\n",
       "      <td>4</td>\n",
       "      <td>2017</td>\n",
       "      <td>30</td>\n",
       "      <td>t</td>\n",
       "      <td>NaN</td>\n",
       "      <td>NaN</td>\n",
       "      <td>120.71</td>\n",
       "      <td>189.61</td>\n",
       "      <td>40.37</td>\n",
       "      <td>0.0</td>\n",
       "      <td>0.0</td>\n",
       "      <td>0.0</td>\n",
       "      <td>NaN</td>\n",
       "      <td>24154</td>\n",
       "      <td>0.85</td>\n",
       "      <td>NaN</td>\n",
       "      <td>141.596</td>\n",
       "      <td>f</td>\n",
       "      <td>120710000.0</td>\n",
       "      <td>189610000.0</td>\n",
       "      <td>0.3634</td>\n",
       "      <td>0</td>\n",
       "      <td>0</td>\n",
       "      <td>0</td>\n",
       "      <td>0</td>\n",
       "      <td>0</td>\n",
       "      <td>NaN</td>\n",
       "      <td>8692999.0</td>\n",
       "      <td>5.63691</td>\n",
       "      <td>258.0</td>\n",
       "    </tr>\n",
       "    <tr>\n",
       "      <th>3</th>\n",
       "      <td>55692</td>\n",
       "      <td>Corcoran, City of</td>\n",
       "      <td>CA1610004</td>\n",
       "      <td>Tulare Lake</td>\n",
       "      <td>NaN</td>\n",
       "      <td>2017-05-15</td>\n",
       "      <td>5</td>\n",
       "      <td>2017</td>\n",
       "      <td>31</td>\n",
       "      <td>t</td>\n",
       "      <td>NaN</td>\n",
       "      <td>NaN</td>\n",
       "      <td>175.91</td>\n",
       "      <td>224.50</td>\n",
       "      <td>46.64</td>\n",
       "      <td>0.0</td>\n",
       "      <td>0.0</td>\n",
       "      <td>0.0</td>\n",
       "      <td>NaN</td>\n",
       "      <td>24154</td>\n",
       "      <td>0.85</td>\n",
       "      <td>NaN</td>\n",
       "      <td>199.691</td>\n",
       "      <td>f</td>\n",
       "      <td>175910000.0</td>\n",
       "      <td>224500000.0</td>\n",
       "      <td>0.2164</td>\n",
       "      <td>0</td>\n",
       "      <td>0</td>\n",
       "      <td>0</td>\n",
       "      <td>0</td>\n",
       "      <td>0</td>\n",
       "      <td>NaN</td>\n",
       "      <td>8692999.0</td>\n",
       "      <td>7.49308</td>\n",
       "      <td>258.0</td>\n",
       "    </tr>\n",
       "    <tr>\n",
       "      <th>4</th>\n",
       "      <td>55691</td>\n",
       "      <td>Corcoran, City of</td>\n",
       "      <td>CA1610004</td>\n",
       "      <td>Tulare Lake</td>\n",
       "      <td>NaN</td>\n",
       "      <td>2017-06-15</td>\n",
       "      <td>6</td>\n",
       "      <td>2017</td>\n",
       "      <td>30</td>\n",
       "      <td>t</td>\n",
       "      <td>NaN</td>\n",
       "      <td>NaN</td>\n",
       "      <td>210.07</td>\n",
       "      <td>258.31</td>\n",
       "      <td>61.77</td>\n",
       "      <td>0.0</td>\n",
       "      <td>0.0</td>\n",
       "      <td>NaN</td>\n",
       "      <td>NaN</td>\n",
       "      <td>24154</td>\n",
       "      <td>0.85</td>\n",
       "      <td>NaN</td>\n",
       "      <td>246.418</td>\n",
       "      <td>f</td>\n",
       "      <td>210070000.0</td>\n",
       "      <td>258310000.0</td>\n",
       "      <td>0.1868</td>\n",
       "      <td>0</td>\n",
       "      <td>0</td>\n",
       "      <td>0</td>\n",
       "      <td>0</td>\n",
       "      <td>0</td>\n",
       "      <td>NaN</td>\n",
       "      <td>8692999.0</td>\n",
       "      <td>8.69538</td>\n",
       "      <td>258.0</td>\n",
       "    </tr>\n",
       "  </tbody>\n",
       "</table>\n",
       "</div>"
      ],
      "text/plain": [
       "   report_id report_agency_name report_pwsid report_hydrologic_region  report_county report_date  report_month  report_year  report_days_in_month report_has_restrictions  report_days_allowed_per_week report_actions_implemented  report_total_production_af  report_total_production_af_2013  report_cii_production_af  report_ag_production_af  report_ag_production_af_2013  report_recycled_production_af  report_non_revenue_production_af  report_population  report_percent_residential  report_gpcd_reported  report_gpcd_calculated report_ag_cert  report_production_calculated  report_production_calculated_2013  report_percent_reduction  report_complaints  report_followups  report_warnings  report_penalties_rate  report_penalties_other  report_id_provided  report_irr_area_sf  report_eto  utility_id\n",
       "0      55695  Corcoran, City of    CA1610004              Tulare Lake            NaN  2017-02-15             2         2017                    28                       t                           NaN                        NaN                       81.69                           111.38                     44.00                      0.0                           0.0                            0.0                               NaN              24154                        0.85                   NaN                 102.669              f                    81690000.0                        111380000.0                    0.2666                  0                 0                0                      0                       0                 NaN           8692999.0     1.82513       258.0\n",
       "1      55694  Corcoran, City of    CA1610004              Tulare Lake            NaN  2017-03-15             3         2017                    31                       t                           NaN                        NaN                      104.72                           145.28                     43.20                      0.0                           0.0                            0.0                               NaN              24154                        0.85                   NaN                 118.877              f                   104720000.0                        145280000.0                    0.2792                  0                 0                0                      0                       0                 NaN           8692999.0     3.91280       258.0\n",
       "2      55693  Corcoran, City of    CA1610004              Tulare Lake            NaN  2017-04-15             4         2017                    30                       t                           NaN                        NaN                      120.71                           189.61                     40.37                      0.0                           0.0                            0.0                               NaN              24154                        0.85                   NaN                 141.596              f                   120710000.0                        189610000.0                    0.3634                  0                 0                0                      0                       0                 NaN           8692999.0     5.63691       258.0\n",
       "3      55692  Corcoran, City of    CA1610004              Tulare Lake            NaN  2017-05-15             5         2017                    31                       t                           NaN                        NaN                      175.91                           224.50                     46.64                      0.0                           0.0                            0.0                               NaN              24154                        0.85                   NaN                 199.691              f                   175910000.0                        224500000.0                    0.2164                  0                 0                0                      0                       0                 NaN           8692999.0     7.49308       258.0\n",
       "4      55691  Corcoran, City of    CA1610004              Tulare Lake            NaN  2017-06-15             6         2017                    30                       t                           NaN                        NaN                      210.07                           258.31                     61.77                      0.0                           0.0                            NaN                               NaN              24154                        0.85                   NaN                 246.418              f                   210070000.0                        258310000.0                    0.1868                  0                 0                0                      0                       0                 NaN           8692999.0     8.69538       258.0"
      ]
     },
     "execution_count": 21,
     "metadata": {},
     "output_type": "execute_result"
    }
   ],
   "source": [
    "sup.head()"
   ]
  },
  {
   "cell_type": "code",
   "execution_count": 22,
   "metadata": {
    "collapsed": true
   },
   "outputs": [],
   "source": [
    "col = [ 'report_agency_name',\n",
    " 'report_pwsid',\n",
    " 'report_date',\n",
    " 'report_days_in_month',\n",
    " 'report_population',\n",
    " 'report_percent_residential',\n",
    " 'report_production_calculated',\n",
    " 'report_irr_area_sf',\n",
    " 'report_eto',\n",
    "]"
   ]
  },
  {
   "cell_type": "code",
   "execution_count": 23,
   "metadata": {
    "collapsed": true
   },
   "outputs": [],
   "source": [
    "target = ['report_agency_name',\n",
    " 'report_pwsid',\n",
    " 'report_date',\n",
    " #'report_month',\n",
    " #'report_year',\n",
    " 'report_days_in_month',\n",
    " 'report_population',\n",
    " 'report_percent_residential',\n",
    " #'report_production_calculated',\n",
    " 'report_irr_area_sf',\n",
    " 'report_eto']"
   ]
  },
  {
   "cell_type": "markdown",
   "metadata": {},
   "source": [
    "#### gallons\n",
    "55*population*dayofthemonth + irrigation_area*eto(evap)*adjust_factor(0.8)*unit_convertion(0.62)"
   ]
  },
  {
   "cell_type": "code",
   "execution_count": 24,
   "metadata": {
    "collapsed": true
   },
   "outputs": [],
   "source": [
    "actual_com = ['report_agency_name',\n",
    " 'report_pwsid',\n",
    " 'report_date',\n",
    " #'report_month',\n",
    " #'report_year',\n",
    " #'report_days_in_month',\n",
    " #'report_population',\n",
    " 'report_percent_residential',\n",
    " 'report_production_calculated',\n",
    " #'report_irr_area_sf',\n",
    " #'report_eto'\n",
    "             ]"
   ]
  },
  {
   "cell_type": "code",
   "execution_count": 25,
   "metadata": {
    "collapsed": false
   },
   "outputs": [
    {
     "data": {
      "text/html": [
       "<div>\n",
       "<table border=\"1\" class=\"dataframe\">\n",
       "  <thead>\n",
       "    <tr style=\"text-align: right;\">\n",
       "      <th></th>\n",
       "      <th>report_agency_name</th>\n",
       "      <th>report_pwsid</th>\n",
       "      <th>report_date</th>\n",
       "      <th>report_days_in_month</th>\n",
       "      <th>report_population</th>\n",
       "      <th>report_percent_residential</th>\n",
       "      <th>report_irr_area_sf</th>\n",
       "      <th>report_eto</th>\n",
       "    </tr>\n",
       "  </thead>\n",
       "  <tbody>\n",
       "    <tr>\n",
       "      <th>0</th>\n",
       "      <td>Corcoran, City of</td>\n",
       "      <td>CA1610004</td>\n",
       "      <td>2017-02-15</td>\n",
       "      <td>28</td>\n",
       "      <td>24154</td>\n",
       "      <td>0.85</td>\n",
       "      <td>8692999.0</td>\n",
       "      <td>1.82513</td>\n",
       "    </tr>\n",
       "    <tr>\n",
       "      <th>1</th>\n",
       "      <td>Corcoran, City of</td>\n",
       "      <td>CA1610004</td>\n",
       "      <td>2017-03-15</td>\n",
       "      <td>31</td>\n",
       "      <td>24154</td>\n",
       "      <td>0.85</td>\n",
       "      <td>8692999.0</td>\n",
       "      <td>3.91280</td>\n",
       "    </tr>\n",
       "    <tr>\n",
       "      <th>2</th>\n",
       "      <td>Corcoran, City of</td>\n",
       "      <td>CA1610004</td>\n",
       "      <td>2017-04-15</td>\n",
       "      <td>30</td>\n",
       "      <td>24154</td>\n",
       "      <td>0.85</td>\n",
       "      <td>8692999.0</td>\n",
       "      <td>5.63691</td>\n",
       "    </tr>\n",
       "    <tr>\n",
       "      <th>3</th>\n",
       "      <td>Corcoran, City of</td>\n",
       "      <td>CA1610004</td>\n",
       "      <td>2017-05-15</td>\n",
       "      <td>31</td>\n",
       "      <td>24154</td>\n",
       "      <td>0.85</td>\n",
       "      <td>8692999.0</td>\n",
       "      <td>7.49308</td>\n",
       "    </tr>\n",
       "    <tr>\n",
       "      <th>4</th>\n",
       "      <td>Corcoran, City of</td>\n",
       "      <td>CA1610004</td>\n",
       "      <td>2017-06-15</td>\n",
       "      <td>30</td>\n",
       "      <td>24154</td>\n",
       "      <td>0.85</td>\n",
       "      <td>8692999.0</td>\n",
       "      <td>8.69538</td>\n",
       "    </tr>\n",
       "  </tbody>\n",
       "</table>\n",
       "</div>"
      ],
      "text/plain": [
       "  report_agency_name report_pwsid report_date  report_days_in_month  report_population  report_percent_residential  report_irr_area_sf  report_eto\n",
       "0  Corcoran, City of    CA1610004  2017-02-15                    28              24154                        0.85           8692999.0     1.82513\n",
       "1  Corcoran, City of    CA1610004  2017-03-15                    31              24154                        0.85           8692999.0     3.91280\n",
       "2  Corcoran, City of    CA1610004  2017-04-15                    30              24154                        0.85           8692999.0     5.63691\n",
       "3  Corcoran, City of    CA1610004  2017-05-15                    31              24154                        0.85           8692999.0     7.49308\n",
       "4  Corcoran, City of    CA1610004  2017-06-15                    30              24154                        0.85           8692999.0     8.69538"
      ]
     },
     "execution_count": 25,
     "metadata": {},
     "output_type": "execute_result"
    }
   ],
   "source": [
    "sup[target].head()"
   ]
  },
  {
   "cell_type": "code",
   "execution_count": 26,
   "metadata": {
    "collapsed": false
   },
   "outputs": [],
   "source": [
    "adjust_factor = 0.8\n",
    "unit_convertion = 0.62\n",
    "gal_percap = 55\n",
    "sup['Residential_Production'] = sup.report_percent_residential*sup.report_production_calculated\n",
    "sup['Target_Production'] = gal_percap*sup.report_population*sup.report_days_in_month + sup.report_irr_area_sf*sup.report_eto*adjust_factor*unit_convertion"
   ]
  },
  {
   "cell_type": "code",
   "execution_count": 27,
   "metadata": {
    "collapsed": true
   },
   "outputs": [],
   "source": [
    "col = [ 'report_agency_name',\n",
    " 'report_pwsid',\n",
    " 'report_date',\n",
    " 'report_days_in_month',\n",
    " 'report_population',\n",
    " 'report_percent_residential',\n",
    " 'report_production_calculated',\n",
    " 'report_irr_area_sf',\n",
    " 'report_eto',\n",
    " 'Residential_Production',\n",
    "'Target_Production',\n",
    "]"
   ]
  },
  {
   "cell_type": "code",
   "execution_count": 28,
   "metadata": {
    "collapsed": false
   },
   "outputs": [
    {
     "name": "stdout",
     "output_type": "stream",
     "text": [
      "(15904, 38)\n",
      "435\n",
      "(401, 20)\n",
      "401\n"
     ]
    }
   ],
   "source": [
    "print sup.shape\n",
    "print len(sup.report_pwsid.unique())\n",
    "print nor_tot_in.shape\n",
    "print len(nor_tot_in.PWSID.unique())"
   ]
  },
  {
   "cell_type": "code",
   "execution_count": 29,
   "metadata": {
    "collapsed": false
   },
   "outputs": [],
   "source": [
    "sup = sup[col].merge(nor_tot_in.iloc[::,-3::], left_on='report_pwsid', right_on='PWSID', how='inner')"
   ]
  },
  {
   "cell_type": "code",
   "execution_count": 30,
   "metadata": {
    "collapsed": false
   },
   "outputs": [
    {
     "name": "stdout",
     "output_type": "stream",
     "text": [
      "(14546, 14)\n",
      "381\n"
     ]
    },
    {
     "data": {
      "text/html": [
       "<div>\n",
       "<table border=\"1\" class=\"dataframe\">\n",
       "  <thead>\n",
       "    <tr style=\"text-align: right;\">\n",
       "      <th></th>\n",
       "      <th>report_agency_name</th>\n",
       "      <th>report_pwsid</th>\n",
       "      <th>report_date</th>\n",
       "      <th>report_days_in_month</th>\n",
       "      <th>report_population</th>\n",
       "      <th>report_percent_residential</th>\n",
       "      <th>report_production_calculated</th>\n",
       "      <th>report_irr_area_sf</th>\n",
       "      <th>report_eto</th>\n",
       "      <th>Residential_Production</th>\n",
       "      <th>Target_Production</th>\n",
       "      <th>PWSID</th>\n",
       "      <th>Medium</th>\n",
       "      <th>Medium_val</th>\n",
       "    </tr>\n",
       "  </thead>\n",
       "  <tbody>\n",
       "    <tr>\n",
       "      <th>0</th>\n",
       "      <td>Corcoran, City of</td>\n",
       "      <td>CA1610004</td>\n",
       "      <td>2017-02-15</td>\n",
       "      <td>28</td>\n",
       "      <td>24154</td>\n",
       "      <td>0.85</td>\n",
       "      <td>81690000.0</td>\n",
       "      <td>8692999.0</td>\n",
       "      <td>1.82513</td>\n",
       "      <td>69436500.0</td>\n",
       "      <td>4.506662e+07</td>\n",
       "      <td>CA1610004</td>\n",
       "      <td>Estimate; Total: - $35,000 to $39,999</td>\n",
       "      <td>0.569151</td>\n",
       "    </tr>\n",
       "    <tr>\n",
       "      <th>1</th>\n",
       "      <td>Corcoran, City of</td>\n",
       "      <td>CA1610004</td>\n",
       "      <td>2017-03-15</td>\n",
       "      <td>31</td>\n",
       "      <td>24154</td>\n",
       "      <td>0.85</td>\n",
       "      <td>104720000.0</td>\n",
       "      <td>8692999.0</td>\n",
       "      <td>3.91280</td>\n",
       "      <td>89012000.0</td>\n",
       "      <td>5.805350e+07</td>\n",
       "      <td>CA1610004</td>\n",
       "      <td>Estimate; Total: - $35,000 to $39,999</td>\n",
       "      <td>0.569151</td>\n",
       "    </tr>\n",
       "    <tr>\n",
       "      <th>2</th>\n",
       "      <td>Corcoran, City of</td>\n",
       "      <td>CA1610004</td>\n",
       "      <td>2017-04-15</td>\n",
       "      <td>30</td>\n",
       "      <td>24154</td>\n",
       "      <td>0.85</td>\n",
       "      <td>120710000.0</td>\n",
       "      <td>8692999.0</td>\n",
       "      <td>5.63691</td>\n",
       "      <td>102603500.0</td>\n",
       "      <td>6.415892e+07</td>\n",
       "      <td>CA1610004</td>\n",
       "      <td>Estimate; Total: - $35,000 to $39,999</td>\n",
       "      <td>0.569151</td>\n",
       "    </tr>\n",
       "  </tbody>\n",
       "</table>\n",
       "</div>"
      ],
      "text/plain": [
       "  report_agency_name report_pwsid report_date  report_days_in_month  report_population  report_percent_residential  report_production_calculated  report_irr_area_sf  report_eto  Residential_Production  Target_Production      PWSID                                 Medium  Medium_val\n",
       "0  Corcoran, City of    CA1610004  2017-02-15                    28              24154                        0.85                    81690000.0           8692999.0     1.82513              69436500.0       4.506662e+07  CA1610004  Estimate; Total: - $35,000 to $39,999    0.569151\n",
       "1  Corcoran, City of    CA1610004  2017-03-15                    31              24154                        0.85                   104720000.0           8692999.0     3.91280              89012000.0       5.805350e+07  CA1610004  Estimate; Total: - $35,000 to $39,999    0.569151\n",
       "2  Corcoran, City of    CA1610004  2017-04-15                    30              24154                        0.85                   120710000.0           8692999.0     5.63691             102603500.0       6.415892e+07  CA1610004  Estimate; Total: - $35,000 to $39,999    0.569151"
      ]
     },
     "execution_count": 30,
     "metadata": {},
     "output_type": "execute_result"
    }
   ],
   "source": [
    "print sup.shape\n",
    "print len(sup.report_pwsid.unique())\n",
    "sup.head(3)"
   ]
  },
  {
   "cell_type": "code",
   "execution_count": 31,
   "metadata": {
    "collapsed": false
   },
   "outputs": [
    {
     "data": {
      "text/plain": [
       "<matplotlib.axes._subplots.AxesSubplot at 0x1d900860>"
      ]
     },
     "execution_count": 31,
     "metadata": {},
     "output_type": "execute_result"
    },
    {
     "data": {
      "image/png": "[encoded data removed]",
      "text/plain": [
       "<matplotlib.figure.Figure at 0x621d240>"
      ]
     },
     "metadata": {},
     "output_type": "display_data"
    }
   ],
   "source": [
    "sns.distplot(sup.report_days_in_month, bins=None)"
   ]
  },
  {
   "cell_type": "code",
   "execution_count": 32,
   "metadata": {
    "collapsed": false
   },
   "outputs": [
    {
     "data": {
      "text/plain": [
       "<matplotlib.axes._subplots.AxesSubplot at 0x1d991e48>"
      ]
     },
     "execution_count": 32,
     "metadata": {},
     "output_type": "execute_result"
    },
    {
     "data": {
      "image/png": "[encoded data removed]",
      "text/plain": [
       "<matplotlib.figure.Figure at 0x621dbe0>"
      ]
     },
     "metadata": {},
     "output_type": "display_data"
    }
   ],
   "source": [
    "sns.distplot(sup.groupby('report_pwsid').count().iloc[::,:1:], bins=None)"
   ]
  },
  {
   "cell_type": "code",
   "execution_count": 33,
   "metadata": {
    "collapsed": true
   },
   "outputs": [],
   "source": [
    "all_pwsid = sup.report_pwsid.unique().tolist()"
   ]
  },
  {
   "cell_type": "code",
   "execution_count": 34,
   "metadata": {
    "collapsed": false
   },
   "outputs": [
    {
     "data": {
      "text/plain": [
       "(37, 14)"
      ]
     },
     "execution_count": 34,
     "metadata": {},
     "output_type": "execute_result"
    }
   ],
   "source": [
    "sup[sup.report_pwsid == all_pwsid[0]].shape"
   ]
  },
  {
   "cell_type": "code",
   "execution_count": 35,
   "metadata": {
    "collapsed": false
   },
   "outputs": [],
   "source": [
    "sup['report_date'] = pd.to_datetime(sup.report_date)"
   ]
  },
  {
   "cell_type": "code",
   "execution_count": 36,
   "metadata": {
    "collapsed": false,
    "scrolled": true
   },
   "outputs": [
    {
     "data": {
      "text/html": [
       "<div>\n",
       "<table border=\"1\" class=\"dataframe\">\n",
       "  <thead>\n",
       "    <tr style=\"text-align: right;\">\n",
       "      <th></th>\n",
       "      <th>report_agency_name</th>\n",
       "      <th>report_pwsid</th>\n",
       "      <th>report_date</th>\n",
       "      <th>report_days_in_month</th>\n",
       "      <th>report_population</th>\n",
       "      <th>report_percent_residential</th>\n",
       "      <th>report_production_calculated</th>\n",
       "      <th>report_irr_area_sf</th>\n",
       "      <th>report_eto</th>\n",
       "      <th>Residential_Production</th>\n",
       "      <th>Target_Production</th>\n",
       "      <th>PWSID</th>\n",
       "      <th>Medium</th>\n",
       "      <th>Medium_val</th>\n",
       "    </tr>\n",
       "  </thead>\n",
       "  <tbody>\n",
       "    <tr>\n",
       "      <th>0</th>\n",
       "      <td>Corcoran, City of</td>\n",
       "      <td>CA1610004</td>\n",
       "      <td>2017-02-15</td>\n",
       "      <td>28</td>\n",
       "      <td>24154</td>\n",
       "      <td>0.85</td>\n",
       "      <td>81690000.0</td>\n",
       "      <td>8692999.0</td>\n",
       "      <td>1.82513</td>\n",
       "      <td>69436500.0</td>\n",
       "      <td>4.506662e+07</td>\n",
       "      <td>CA1610004</td>\n",
       "      <td>Estimate; Total: - $35,000 to $39,999</td>\n",
       "      <td>0.569151</td>\n",
       "    </tr>\n",
       "    <tr>\n",
       "      <th>1</th>\n",
       "      <td>Corcoran, City of</td>\n",
       "      <td>CA1610004</td>\n",
       "      <td>2017-03-15</td>\n",
       "      <td>31</td>\n",
       "      <td>24154</td>\n",
       "      <td>0.85</td>\n",
       "      <td>104720000.0</td>\n",
       "      <td>8692999.0</td>\n",
       "      <td>3.91280</td>\n",
       "      <td>89012000.0</td>\n",
       "      <td>5.805350e+07</td>\n",
       "      <td>CA1610004</td>\n",
       "      <td>Estimate; Total: - $35,000 to $39,999</td>\n",
       "      <td>0.569151</td>\n",
       "    </tr>\n",
       "    <tr>\n",
       "      <th>2</th>\n",
       "      <td>Corcoran, City of</td>\n",
       "      <td>CA1610004</td>\n",
       "      <td>2017-04-15</td>\n",
       "      <td>30</td>\n",
       "      <td>24154</td>\n",
       "      <td>0.85</td>\n",
       "      <td>120710000.0</td>\n",
       "      <td>8692999.0</td>\n",
       "      <td>5.63691</td>\n",
       "      <td>102603500.0</td>\n",
       "      <td>6.415892e+07</td>\n",
       "      <td>CA1610004</td>\n",
       "      <td>Estimate; Total: - $35,000 to $39,999</td>\n",
       "      <td>0.569151</td>\n",
       "    </tr>\n",
       "  </tbody>\n",
       "</table>\n",
       "</div>"
      ],
      "text/plain": [
       "  report_agency_name report_pwsid report_date  report_days_in_month  report_population  report_percent_residential  report_production_calculated  report_irr_area_sf  report_eto  Residential_Production  Target_Production      PWSID                                 Medium  Medium_val\n",
       "0  Corcoran, City of    CA1610004  2017-02-15                    28              24154                        0.85                    81690000.0           8692999.0     1.82513              69436500.0       4.506662e+07  CA1610004  Estimate; Total: - $35,000 to $39,999    0.569151\n",
       "1  Corcoran, City of    CA1610004  2017-03-15                    31              24154                        0.85                   104720000.0           8692999.0     3.91280              89012000.0       5.805350e+07  CA1610004  Estimate; Total: - $35,000 to $39,999    0.569151\n",
       "2  Corcoran, City of    CA1610004  2017-04-15                    30              24154                        0.85                   120710000.0           8692999.0     5.63691             102603500.0       6.415892e+07  CA1610004  Estimate; Total: - $35,000 to $39,999    0.569151"
      ]
     },
     "execution_count": 36,
     "metadata": {},
     "output_type": "execute_result"
    }
   ],
   "source": [
    "sup[sup.report_pwsid == all_pwsid[0]].sort_values('report_date')\n",
    "sup.head(3)"
   ]
  },
  {
   "cell_type": "code",
   "execution_count": 37,
   "metadata": {
    "collapsed": false
   },
   "outputs": [
    {
     "data": {
      "text/plain": [
       "[u'Estimate; Total: - $35,000 to $39,999',\n",
       " u'Estimate; Total: - $100,000 to $124,999',\n",
       " u'Estimate; Total: - $20,000 to $24,999',\n",
       " u'Estimate; Total: - $45,000 to $49,999',\n",
       " u'Estimate; Total: - $60,000 to $74,999',\n",
       " u'Estimate; Total: - $75,000 to $99,999',\n",
       " u'Estimate; Total: - $30,000 to $34,999',\n",
       " u'Estimate; Total: - $50,000 to $59,999',\n",
       " u'Estimate; Total: - $40,000 to $44,999',\n",
       " u'Estimate; Total: - $125,000 to $149,999',\n",
       " u'Estimate; Total: - $150,000 to $199,999',\n",
       " u'Estimate; Total: - $25,000 to $29,999',\n",
       " u'Estimate; Total: - $200,000 or more',\n",
       " u'Estimate; Total: - $15,000 to $19,999']"
      ]
     },
     "execution_count": 37,
     "metadata": {},
     "output_type": "execute_result"
    }
   ],
   "source": [
    "sup.Medium.unique().tolist()"
   ]
  },
  {
   "cell_type": "code",
   "execution_count": 38,
   "metadata": {
    "collapsed": true
   },
   "outputs": [],
   "source": [
    "sup.Medium = sup.Medium.map(lambda x: x.replace(\"Estimate; Total: - \", ''))"
   ]
  },
  {
   "cell_type": "code",
   "execution_count": 39,
   "metadata": {
    "collapsed": true
   },
   "outputs": [],
   "source": [
    "listforcolors = [ u'$15,000 to $19,999',\n",
    "  u'$20,000 to $24,999',\n",
    "  u'$25,000 to $29,999',\n",
    "  u'$30,000 to $34,999',\n",
    "  u'$35,000 to $39,999',\n",
    "  u'$40,000 to $44,999',\n",
    "  u'$45,000 to $49,999',\n",
    "  u'$50,000 to $59,999',\n",
    "  u'$60,000 to $74,999',\n",
    "  u'$75,000 to $99,999',\n",
    "  u'$100,000 to $124,999',\n",
    "  u'$125,000 to $149,999',\n",
    "  u'$150,000 to $199,999',\n",
    "  u'$200,000 or more',]"
   ]
  },
  {
   "cell_type": "code",
   "execution_count": 40,
   "metadata": {
    "collapsed": false
   },
   "outputs": [],
   "source": [
    "for i in sup.index:\n",
    "    sup.loc[i, 'color'] = listforcolors.index(sup.loc[i, \"Medium\"])"
   ]
  },
  {
   "cell_type": "markdown",
   "metadata": {},
   "source": []
  },
  {
   "cell_type": "code",
   "execution_count": 41,
   "metadata": {
    "collapsed": true
   },
   "outputs": [],
   "source": [
    "summer = [6,7,8]\n",
    "winter = [12,1,2]\n",
    "spring = [3,4,5]\n",
    "autumn = [9,10,11]\n",
    "seasons = [winter, spring, summer, autumn]"
   ]
  },
  {
   "cell_type": "code",
   "execution_count": 42,
   "metadata": {
    "collapsed": true
   },
   "outputs": [],
   "source": [
    "seasons= {'winter':winter,'spring':spring,'summer':summer, 'autumn':autumn}"
   ]
  },
  {
   "cell_type": "code",
   "execution_count": 43,
   "metadata": {
    "collapsed": false
   },
   "outputs": [
    {
     "name": "stdout",
     "output_type": "stream",
     "text": [
      "autumn\n",
      "[9, 10, 11]\n",
      "spring\n",
      "[3, 4, 5]\n",
      "winter\n",
      "[12, 1, 2]\n",
      "summer\n",
      "[6, 7, 8]\n"
     ]
    }
   ],
   "source": [
    "for i in seasons:\n",
    "    print i\n",
    "    print seasons[i]"
   ]
  },
  {
   "cell_type": "code",
   "execution_count": 44,
   "metadata": {
    "collapsed": false
   },
   "outputs": [],
   "source": [
    "sup.to_csv('Census_Data/Water_District_Historical.csv')"
   ]
  },
  {
   "cell_type": "code",
   "execution_count": 43,
   "metadata": {
    "collapsed": false
   },
   "outputs": [],
   "source": [
    "### Get last year from  seotember 2016 to the last record in 2017 \n",
    "sup_2017 = sup[(sup.report_date > '2016-9-01') & (sup.report_date< '2018-01-01')].sort_values('report_date')"
   ]
  },
  {
   "cell_type": "code",
   "execution_count": 44,
   "metadata": {
    "collapsed": false
   },
   "outputs": [
    {
     "name": "stdout",
     "output_type": "stream",
     "text": [
      "(4499, 15)\n",
      "381\n",
      "381\n"
     ]
    }
   ],
   "source": [
    "print sup_2017.shape\n",
    "print len(sup_2017.PWSID.unique())\n",
    "print len(sup_2017.report_pwsid.unique())"
   ]
  },
  {
   "cell_type": "code",
   "execution_count": 45,
   "metadata": {
    "collapsed": false
   },
   "outputs": [
    {
     "name": "stdout",
     "output_type": "stream",
     "text": [
      "(4435, 23)\n",
      "371\n"
     ]
    },
    {
     "data": {
      "text/html": [
       "<div>\n",
       "<table border=\"1\" class=\"dataframe\">\n",
       "  <thead>\n",
       "    <tr style=\"text-align: right;\">\n",
       "      <th></th>\n",
       "      <th>report_pwsid</th>\n",
       "      <th>Residential_Production_17_mean_summer</th>\n",
       "      <th>Target_Production_17_mean_summer</th>\n",
       "      <th>Residential_Production_17_mean_winter</th>\n",
       "      <th>Target_Production_17_mean_winter</th>\n",
       "      <th>Residential_Production_17_mean_spring</th>\n",
       "      <th>Target_Production_17_mean_spring</th>\n",
       "      <th>Residential_Production_17_mean_autumn</th>\n",
       "      <th>Target_Production_17_mean_autumn</th>\n",
       "      <th>report_agency_name</th>\n",
       "      <th>report_date</th>\n",
       "      <th>report_days_in_month</th>\n",
       "      <th>report_population</th>\n",
       "      <th>report_percent_residential</th>\n",
       "      <th>report_production_calculated</th>\n",
       "      <th>report_irr_area_sf</th>\n",
       "      <th>report_eto</th>\n",
       "      <th>Residential_Production</th>\n",
       "      <th>Target_Production</th>\n",
       "      <th>PWSID</th>\n",
       "      <th>Medium</th>\n",
       "      <th>Medium_val</th>\n",
       "      <th>color</th>\n",
       "    </tr>\n",
       "  </thead>\n",
       "  <tbody>\n",
       "    <tr>\n",
       "      <th>0</th>\n",
       "      <td>CA0110001</td>\n",
       "      <td>986132500.0</td>\n",
       "      <td>1.178623e+09</td>\n",
       "      <td>5.600733e+08</td>\n",
       "      <td>6.984581e+08</td>\n",
       "      <td>7.147147e+08</td>\n",
       "      <td>1.008298e+09</td>\n",
       "      <td>730970000.0</td>\n",
       "      <td>8.705424e+08</td>\n",
       "      <td>Alameda County Water District</td>\n",
       "      <td>2016-09-15</td>\n",
       "      <td>30</td>\n",
       "      <td>349000</td>\n",
       "      <td>0.67</td>\n",
       "      <td>1.281000e+09</td>\n",
       "      <td>185999357.0</td>\n",
       "      <td>4.84460</td>\n",
       "      <td>858270000.0</td>\n",
       "      <td>1.022792e+09</td>\n",
       "      <td>CA0110001</td>\n",
       "      <td>$100,000 to $124,999</td>\n",
       "      <td>0.59788</td>\n",
       "      <td>10.0</td>\n",
       "    </tr>\n",
       "    <tr>\n",
       "      <th>1</th>\n",
       "      <td>CA0110001</td>\n",
       "      <td>986132500.0</td>\n",
       "      <td>1.178623e+09</td>\n",
       "      <td>5.600733e+08</td>\n",
       "      <td>6.984581e+08</td>\n",
       "      <td>7.147147e+08</td>\n",
       "      <td>1.008298e+09</td>\n",
       "      <td>730970000.0</td>\n",
       "      <td>8.705424e+08</td>\n",
       "      <td>Alameda County Water District</td>\n",
       "      <td>2016-10-15</td>\n",
       "      <td>31</td>\n",
       "      <td>349000</td>\n",
       "      <td>0.67</td>\n",
       "      <td>1.122000e+09</td>\n",
       "      <td>185999357.0</td>\n",
       "      <td>2.86433</td>\n",
       "      <td>751740000.0</td>\n",
       "      <td>8.592957e+08</td>\n",
       "      <td>CA0110001</td>\n",
       "      <td>$100,000 to $124,999</td>\n",
       "      <td>0.59788</td>\n",
       "      <td>10.0</td>\n",
       "    </tr>\n",
       "    <tr>\n",
       "      <th>2</th>\n",
       "      <td>CA0110001</td>\n",
       "      <td>986132500.0</td>\n",
       "      <td>1.178623e+09</td>\n",
       "      <td>5.600733e+08</td>\n",
       "      <td>6.984581e+08</td>\n",
       "      <td>7.147147e+08</td>\n",
       "      <td>1.008298e+09</td>\n",
       "      <td>730970000.0</td>\n",
       "      <td>8.705424e+08</td>\n",
       "      <td>Alameda County Water District</td>\n",
       "      <td>2016-11-15</td>\n",
       "      <td>30</td>\n",
       "      <td>349000</td>\n",
       "      <td>0.67</td>\n",
       "      <td>8.700000e+08</td>\n",
       "      <td>185999357.0</td>\n",
       "      <td>1.66591</td>\n",
       "      <td>582900000.0</td>\n",
       "      <td>7.295397e+08</td>\n",
       "      <td>CA0110001</td>\n",
       "      <td>$100,000 to $124,999</td>\n",
       "      <td>0.59788</td>\n",
       "      <td>10.0</td>\n",
       "    </tr>\n",
       "  </tbody>\n",
       "</table>\n",
       "</div>"
      ],
      "text/plain": [
       "  report_pwsid  Residential_Production_17_mean_summer  Target_Production_17_mean_summer  Residential_Production_17_mean_winter  Target_Production_17_mean_winter  Residential_Production_17_mean_spring  Target_Production_17_mean_spring  Residential_Production_17_mean_autumn  Target_Production_17_mean_autumn             report_agency_name report_date  report_days_in_month  report_population  report_percent_residential  report_production_calculated  report_irr_area_sf  report_eto  Residential_Production  Target_Production      PWSID                Medium  Medium_val  color\n",
       "0    CA0110001                            986132500.0                      1.178623e+09                           5.600733e+08                      6.984581e+08                           7.147147e+08                      1.008298e+09                            730970000.0                      8.705424e+08  Alameda County Water District  2016-09-15                    30             349000                        0.67                  1.281000e+09         185999357.0     4.84460             858270000.0       1.022792e+09  CA0110001  $100,000 to $124,999     0.59788   10.0\n",
       "1    CA0110001                            986132500.0                      1.178623e+09                           5.600733e+08                      6.984581e+08                           7.147147e+08                      1.008298e+09                            730970000.0                      8.705424e+08  Alameda County Water District  2016-10-15                    31             349000                        0.67                  1.122000e+09         185999357.0     2.86433             751740000.0       8.592957e+08  CA0110001  $100,000 to $124,999     0.59788   10.0\n",
       "2    CA0110001                            986132500.0                      1.178623e+09                           5.600733e+08                      6.984581e+08                           7.147147e+08                      1.008298e+09                            730970000.0                      8.705424e+08  Alameda County Water District  2016-11-15                    30             349000                        0.67                  8.700000e+08         185999357.0     1.66591             582900000.0       7.295397e+08  CA0110001  $100,000 to $124,999     0.59788   10.0"
      ]
     },
     "execution_count": 45,
     "metadata": {},
     "output_type": "execute_result"
    }
   ],
   "source": [
    "count = 0\n",
    "for s in seasons:\n",
    "    #print s, type(s)\n",
    "    sup_2017_season = sup_2017[sup_2017.report_date.dt.month.isin(seasons[s])].groupby('report_pwsid').mean().iloc[::,6:8:].copy(deep=True)\n",
    "    #print sup_2017_season.shape\n",
    "    sup_2017_season.reset_index(inplace=True)\n",
    "    #print sup_2017_season.shape\n",
    "    sup_2017_season.rename(columns={'Residential_Production':'Residential_Production_17_mean_'+s,'Target_Production':'Target_Production_17_mean_'+s}, inplace=True)\n",
    "    #s#up_2017_win = sup_2017_season.merge(sup, on= 'report_pwsid', how = 'inner')\n",
    "    if count==0:\n",
    "        tot_2017 = sup_2017_season.merge(sup_2017, on= 'report_pwsid', how = 'inner').copy(deep=True)\n",
    "        #print tot_2017.shape\n",
    "    else:\n",
    "        tot_2017 = sup_2017_season.merge(tot_2017, on= 'report_pwsid', how = 'inner')\n",
    "    count+=1\n",
    "print tot_2017.shape\n",
    "print len(tot_2017.report_pwsid.unique().tolist())\n",
    "tot_2017.head(3)"
   ]
  },
  {
   "cell_type": "code",
   "execution_count": 46,
   "metadata": {
    "collapsed": false
   },
   "outputs": [
    {
     "name": "stdout",
     "output_type": "stream",
     "text": [
      "371\n"
     ]
    },
    {
     "data": {
      "text/html": [
       "<div>\n",
       "<table border=\"1\" class=\"dataframe\">\n",
       "  <thead>\n",
       "    <tr style=\"text-align: right;\">\n",
       "      <th></th>\n",
       "      <th>report_pwsid</th>\n",
       "      <th>Residential_Production_17_tot_summer</th>\n",
       "      <th>Target_Production_17_tot_summer</th>\n",
       "      <th>Residential_Production_17_tot_winter</th>\n",
       "      <th>Target_Production_17_tot_winter</th>\n",
       "      <th>Residential_Production_17_tot_spring</th>\n",
       "      <th>Target_Production_17_tot_spring</th>\n",
       "      <th>Residential_Production_17_tot_autumn</th>\n",
       "      <th>Target_Production_17_tot_autumn</th>\n",
       "      <th>Residential_Production_17_mean_summer</th>\n",
       "      <th>Target_Production_17_mean_summer</th>\n",
       "      <th>Residential_Production_17_mean_winter</th>\n",
       "      <th>Target_Production_17_mean_winter</th>\n",
       "      <th>Residential_Production_17_mean_spring</th>\n",
       "      <th>Target_Production_17_mean_spring</th>\n",
       "      <th>Residential_Production_17_mean_autumn</th>\n",
       "      <th>Target_Production_17_mean_autumn</th>\n",
       "      <th>report_agency_name</th>\n",
       "      <th>report_date</th>\n",
       "      <th>report_days_in_month</th>\n",
       "      <th>report_population</th>\n",
       "      <th>report_percent_residential</th>\n",
       "      <th>report_production_calculated</th>\n",
       "      <th>report_irr_area_sf</th>\n",
       "      <th>report_eto</th>\n",
       "      <th>Residential_Production</th>\n",
       "      <th>Target_Production</th>\n",
       "      <th>PWSID</th>\n",
       "      <th>Medium</th>\n",
       "      <th>Medium_val</th>\n",
       "      <th>color</th>\n",
       "    </tr>\n",
       "  </thead>\n",
       "  <tbody>\n",
       "    <tr>\n",
       "      <th>0</th>\n",
       "      <td>CA0110001</td>\n",
       "      <td>2.958398e+09</td>\n",
       "      <td>3.535869e+09</td>\n",
       "      <td>1.680220e+09</td>\n",
       "      <td>2.095374e+09</td>\n",
       "      <td>2.144144e+09</td>\n",
       "      <td>3.024893e+09</td>\n",
       "      <td>2.192910e+09</td>\n",
       "      <td>2.611627e+09</td>\n",
       "      <td>986132500.0</td>\n",
       "      <td>1.178623e+09</td>\n",
       "      <td>5.600733e+08</td>\n",
       "      <td>6.984581e+08</td>\n",
       "      <td>7.147147e+08</td>\n",
       "      <td>1.008298e+09</td>\n",
       "      <td>730970000.0</td>\n",
       "      <td>8.705424e+08</td>\n",
       "      <td>Alameda County Water District</td>\n",
       "      <td>2016-09-15</td>\n",
       "      <td>30</td>\n",
       "      <td>349000</td>\n",
       "      <td>0.67</td>\n",
       "      <td>1.281000e+09</td>\n",
       "      <td>185999357.0</td>\n",
       "      <td>4.84460</td>\n",
       "      <td>858270000.0</td>\n",
       "      <td>1.022792e+09</td>\n",
       "      <td>CA0110001</td>\n",
       "      <td>$100,000 to $124,999</td>\n",
       "      <td>0.59788</td>\n",
       "      <td>10.0</td>\n",
       "    </tr>\n",
       "    <tr>\n",
       "      <th>1</th>\n",
       "      <td>CA0110001</td>\n",
       "      <td>2.958398e+09</td>\n",
       "      <td>3.535869e+09</td>\n",
       "      <td>1.680220e+09</td>\n",
       "      <td>2.095374e+09</td>\n",
       "      <td>2.144144e+09</td>\n",
       "      <td>3.024893e+09</td>\n",
       "      <td>2.192910e+09</td>\n",
       "      <td>2.611627e+09</td>\n",
       "      <td>986132500.0</td>\n",
       "      <td>1.178623e+09</td>\n",
       "      <td>5.600733e+08</td>\n",
       "      <td>6.984581e+08</td>\n",
       "      <td>7.147147e+08</td>\n",
       "      <td>1.008298e+09</td>\n",
       "      <td>730970000.0</td>\n",
       "      <td>8.705424e+08</td>\n",
       "      <td>Alameda County Water District</td>\n",
       "      <td>2016-10-15</td>\n",
       "      <td>31</td>\n",
       "      <td>349000</td>\n",
       "      <td>0.67</td>\n",
       "      <td>1.122000e+09</td>\n",
       "      <td>185999357.0</td>\n",
       "      <td>2.86433</td>\n",
       "      <td>751740000.0</td>\n",
       "      <td>8.592957e+08</td>\n",
       "      <td>CA0110001</td>\n",
       "      <td>$100,000 to $124,999</td>\n",
       "      <td>0.59788</td>\n",
       "      <td>10.0</td>\n",
       "    </tr>\n",
       "    <tr>\n",
       "      <th>2</th>\n",
       "      <td>CA0110001</td>\n",
       "      <td>2.958398e+09</td>\n",
       "      <td>3.535869e+09</td>\n",
       "      <td>1.680220e+09</td>\n",
       "      <td>2.095374e+09</td>\n",
       "      <td>2.144144e+09</td>\n",
       "      <td>3.024893e+09</td>\n",
       "      <td>2.192910e+09</td>\n",
       "      <td>2.611627e+09</td>\n",
       "      <td>986132500.0</td>\n",
       "      <td>1.178623e+09</td>\n",
       "      <td>5.600733e+08</td>\n",
       "      <td>6.984581e+08</td>\n",
       "      <td>7.147147e+08</td>\n",
       "      <td>1.008298e+09</td>\n",
       "      <td>730970000.0</td>\n",
       "      <td>8.705424e+08</td>\n",
       "      <td>Alameda County Water District</td>\n",
       "      <td>2016-11-15</td>\n",
       "      <td>30</td>\n",
       "      <td>349000</td>\n",
       "      <td>0.67</td>\n",
       "      <td>8.700000e+08</td>\n",
       "      <td>185999357.0</td>\n",
       "      <td>1.66591</td>\n",
       "      <td>582900000.0</td>\n",
       "      <td>7.295397e+08</td>\n",
       "      <td>CA0110001</td>\n",
       "      <td>$100,000 to $124,999</td>\n",
       "      <td>0.59788</td>\n",
       "      <td>10.0</td>\n",
       "    </tr>\n",
       "  </tbody>\n",
       "</table>\n",
       "</div>"
      ],
      "text/plain": [
       "  report_pwsid  Residential_Production_17_tot_summer  Target_Production_17_tot_summer  Residential_Production_17_tot_winter  Target_Production_17_tot_winter  Residential_Production_17_tot_spring  Target_Production_17_tot_spring  Residential_Production_17_tot_autumn  Target_Production_17_tot_autumn  Residential_Production_17_mean_summer  Target_Production_17_mean_summer  Residential_Production_17_mean_winter  Target_Production_17_mean_winter  Residential_Production_17_mean_spring  Target_Production_17_mean_spring  Residential_Production_17_mean_autumn  Target_Production_17_mean_autumn             report_agency_name report_date  report_days_in_month  report_population  report_percent_residential  report_production_calculated  report_irr_area_sf  report_eto  Residential_Production  Target_Production      PWSID                Medium  Medium_val  color\n",
       "0    CA0110001                          2.958398e+09                     3.535869e+09                          1.680220e+09                     2.095374e+09                          2.144144e+09                     3.024893e+09                          2.192910e+09                     2.611627e+09                            986132500.0                      1.178623e+09                           5.600733e+08                      6.984581e+08                           7.147147e+08                      1.008298e+09                            730970000.0                      8.705424e+08  Alameda County Water District  2016-09-15                    30             349000                        0.67                  1.281000e+09         185999357.0     4.84460             858270000.0       1.022792e+09  CA0110001  $100,000 to $124,999     0.59788   10.0\n",
       "1    CA0110001                          2.958398e+09                     3.535869e+09                          1.680220e+09                     2.095374e+09                          2.144144e+09                     3.024893e+09                          2.192910e+09                     2.611627e+09                            986132500.0                      1.178623e+09                           5.600733e+08                      6.984581e+08                           7.147147e+08                      1.008298e+09                            730970000.0                      8.705424e+08  Alameda County Water District  2016-10-15                    31             349000                        0.67                  1.122000e+09         185999357.0     2.86433             751740000.0       8.592957e+08  CA0110001  $100,000 to $124,999     0.59788   10.0\n",
       "2    CA0110001                          2.958398e+09                     3.535869e+09                          1.680220e+09                     2.095374e+09                          2.144144e+09                     3.024893e+09                          2.192910e+09                     2.611627e+09                            986132500.0                      1.178623e+09                           5.600733e+08                      6.984581e+08                           7.147147e+08                      1.008298e+09                            730970000.0                      8.705424e+08  Alameda County Water District  2016-11-15                    30             349000                        0.67                  8.700000e+08         185999357.0     1.66591             582900000.0       7.295397e+08  CA0110001  $100,000 to $124,999     0.59788   10.0"
      ]
     },
     "execution_count": 46,
     "metadata": {},
     "output_type": "execute_result"
    }
   ],
   "source": [
    "count = 0\n",
    "for s in seasons:\n",
    "    #print s, type(s)\n",
    "    sup_2017_season = sup_2017[sup_2017.report_date.dt.month.isin(seasons[s])].groupby('report_pwsid').sum().iloc[::,6:8:].copy(deep=True)\n",
    "    #print sup_2017_season.shape\n",
    "    sup_2017_season.reset_index(inplace=True)\n",
    "    #print sup_2017_season.shape\n",
    "    sup_2017_season.rename(columns={'Residential_Production':'Residential_Production_17_tot_'+s,'Target_Production':'Target_Production_17_tot_'+s}, inplace=True)\n",
    "    #s#up_2017_win = sup_2017_season.merge(sup, on= 'report_pwsid', how = 'inner')\n",
    "    tot_2017 = sup_2017_season.merge(tot_2017, on= 'report_pwsid', how = 'inner')\n",
    "    count+=1\n",
    "print len(tot_2017.report_pwsid.unique().tolist())\n",
    "tot_2017.head(3)"
   ]
  },
  {
   "cell_type": "code",
   "execution_count": 47,
   "metadata": {
    "collapsed": false
   },
   "outputs": [
    {
     "data": {
      "text/plain": [
       "[u'$15,000 to $19,999',\n",
       " u'$20,000 to $24,999',\n",
       " u'$25,000 to $29,999',\n",
       " u'$30,000 to $34,999',\n",
       " u'$35,000 to $39,999',\n",
       " u'$40,000 to $44,999',\n",
       " u'$45,000 to $49,999',\n",
       " u'$50,000 to $59,999',\n",
       " u'$60,000 to $74,999',\n",
       " u'$75,000 to $99,999',\n",
       " u'$100,000 to $124,999',\n",
       " u'$125,000 to $149,999',\n",
       " u'$150,000 to $199,999',\n",
       " u'$200,000 or more']"
      ]
     },
     "execution_count": 47,
     "metadata": {},
     "output_type": "execute_result"
    }
   ],
   "source": [
    "listforcolors"
   ]
  },
  {
   "cell_type": "code",
   "execution_count": 48,
   "metadata": {
    "collapsed": false
   },
   "outputs": [],
   "source": [
    "seasons_name = tot_2017.columns.tolist()"
   ]
  },
  {
   "cell_type": "code",
   "execution_count": 49,
   "metadata": {
    "collapsed": false
   },
   "outputs": [
    {
     "data": {
      "text/plain": [
       "(371, 31)"
      ]
     },
     "execution_count": 49,
     "metadata": {},
     "output_type": "execute_result"
    }
   ],
   "source": [
    "tot_2017.drop_duplicates(subset=['report_pwsid']).shape"
   ]
  },
  {
   "cell_type": "code",
   "execution_count": 50,
   "metadata": {
    "collapsed": true
   },
   "outputs": [],
   "source": [
    "by_tim_seas = ['_17_mean_autumn',\n",
    "               '_17_mean_winter',\n",
    "               '_17_mean_spring',\n",
    "               '_17_mean_summer']\n",
    "by_tim_tot = ['_17_tot_autumn',\n",
    "               '_17_tot_winter',\n",
    "               '_17_tot_spring',\n",
    "               '_17_tot_summer']"
   ]
  },
  {
   "cell_type": "code",
   "execution_count": 51,
   "metadata": {
    "collapsed": false,
    "scrolled": true
   },
   "outputs": [
    {
     "data": {
      "text/html": [
       "<div style=\"background-color:rgb(215,25,28);height:20px;width:20px;display:inline-block;\"></div><div style=\"background-color:rgb(253,174,97);height:20px;width:20px;display:inline-block;\"></div><div style=\"background-color:rgb(171,217,233);height:20px;width:20px;display:inline-block;\"></div><div style=\"background-color:rgb(44,123,182);height:20px;width:20px;display:inline-block;\"></div>"
      ],
      "text/plain": [
       "<IPython.core.display.HTML object>"
      ]
     },
     "execution_count": 51,
     "metadata": {},
     "output_type": "execute_result"
    }
   ],
   "source": [
    "\n",
    "import colorlover as cl\n",
    "from IPython.display import HTML\n",
    "HTML(cl.to_html( cl.scales['4']['div']['RdYlBu'] ))"
   ]
  },
  {
   "cell_type": "code",
   "execution_count": 52,
   "metadata": {
    "collapsed": false
   },
   "outputs": [
    {
     "data": {
      "text/plain": [
       "['rgb(215,25,28)', 'rgb(253,174,97)', 'rgb(171,217,233)', 'rgb(44,123,182)']"
      ]
     },
     "execution_count": 52,
     "metadata": {},
     "output_type": "execute_result"
    }
   ],
   "source": [
    "cl.scales['4']['div']['RdYlBu']"
   ]
  },
  {
   "cell_type": "code",
   "execution_count": 53,
   "metadata": {
    "collapsed": true
   },
   "outputs": [],
   "source": [
    "color_s = {'_17_mean_autumn':['Autumn 2016','rgb(171,217,233)'],\n",
    "               '_17_mean_winter':['Winter 2017','rgb(44,123,182)'],\n",
    "               '_17_mean_spring':['Spring 2017','rgb(253,174,97)'],\n",
    "               '_17_mean_summer':['Summer 2017','rgb(215,25,28)']}"
   ]
  },
  {
   "cell_type": "code",
   "execution_count": 54,
   "metadata": {
    "collapsed": true
   },
   "outputs": [],
   "source": [
    "color_s = {'_17_mean_autumn':['Autumn 2016','brown'],\n",
    "               '_17_mean_winter':['Winter 2017','rgb(44,123,182)'],\n",
    "               '_17_mean_spring':['Spring 2017','green'],\n",
    "               '_17_mean_summer':['Summer 2017','orange']}"
   ]
  },
  {
   "cell_type": "markdown",
   "metadata": {},
   "source": [
    "Feedback on water rate analyses \n",
    "\n",
    "- aggregate by season / year. Take the median usage for Summer 2017 (June / July / August), Spring 2017 (March, April, May), Winter 16-17 etc\n",
    "\n",
    "- scatterplot of percent over/under efficiency goal in summer 2017 and neighborhood income\n",
    "\n",
    "- add in typical customer bill into the analysis. Typical means single family residential at 15 ccf."
   ]
  },
  {
   "cell_type": "code",
   "execution_count": 55,
   "metadata": {
    "collapsed": false
   },
   "outputs": [
    {
     "data": {
      "text/plain": [
       "['_17_mean_autumn', '_17_mean_winter', '_17_mean_spring', '_17_mean_summer']"
      ]
     },
     "execution_count": 55,
     "metadata": {},
     "output_type": "execute_result"
    }
   ],
   "source": [
    "by_tim_seas"
   ]
  },
  {
   "cell_type": "code",
   "execution_count": 56,
   "metadata": {
    "collapsed": false
   },
   "outputs": [
    {
     "name": "stdout",
     "output_type": "stream",
     "text": [
      "(369, 32)\n"
     ]
    }
   ],
   "source": [
    "#tot_2017['x_medium'] = tot_2017['Medium'].map(lambda x:listforcolors.index(x))\n",
    "tot_2017['x_medium'] = tot_2017['Medium'].map(lambda x:x.replace(',000','k'))\n",
    "tot_2017['x_medium'] = tot_2017['x_medium'].map(lambda x:x.replace('$',''))\n",
    "tot_2017['x_medium'] = tot_2017['x_medium'].map(lambda x:x.replace(',999','.9k'))\n",
    "tot_2017['x_medium'] = tot_2017['x_medium'].map(lambda x: '$' + x)\n",
    "\n",
    "re_tot_2017 = tot_2017.drop_duplicates(subset=['report_pwsid']).copy(deep=True)\n",
    "re_tot_2017 = re_tot_2017.dropna(subset = ['Target_Production'])\n",
    "\n",
    "print re_tot_2017.shape"
   ]
  },
  {
   "cell_type": "code",
   "execution_count": 57,
   "metadata": {
    "collapsed": false,
    "scrolled": false
   },
   "outputs": [
    {
     "data": {
      "text/html": [
       "<iframe id=\"igraph\" scrolling=\"no\" style=\"border:none;\" seamless=\"seamless\" src=\"https://plot.ly/~lmf445/134.embed\" height=\"700px\" width=\"900px\"></iframe>"
      ],
      "text/plain": [
       "<plotly.tools.PlotlyDisplay object>"
      ]
     },
     "execution_count": 57,
     "metadata": {},
     "output_type": "execute_result"
    }
   ],
   "source": [
    "import plotly.plotly as py\n",
    "import plotly.graph_objs as go \n",
    "import copy\n",
    "\n",
    "from datetime import datetime\n",
    "\n",
    "\n",
    "data = []\n",
    "\n",
    "for s in by_tim_seas:\n",
    "\n",
    "    trace_actual = go.Scatter(x=re_tot_2017['Residential_Production'+s],\n",
    "                            y=re_tot_2017['Target_Production'+s],\n",
    "                            visible=True,\n",
    "                            text= re_tot_2017['PWSID'] + ' - '+ re_tot_2017['report_agency_name'],\n",
    "                            name = color_s[s][0],\n",
    "                            marker=dict(size=16,\n",
    "                                        color = color_s[s][1],\n",
    "                                        line= dict(width=1),\n",
    "                                       ),\n",
    "                            opacity=.65,\n",
    "                            legendgroup = s,\n",
    "                            #showlegend = show_leg,\n",
    "\n",
    "                            mode='markers')\n",
    "    data.append(trace_actual)\n",
    "\n",
    "line_1 = [dict(type='line',\n",
    "                 xref='x', yref='y',\n",
    "                 x0=0, y0=0, \n",
    "                 x1=25000000000, y1 = 25000000000, \n",
    "                 opacity=.55,\n",
    "                 line=dict(color='lightgrey'),\n",
    "                 fillcolor='#B8F7D4')]\n",
    "                \n",
    "layout = dict(title='Mean Water Performance by Season', showlegend=True,\n",
    "              shapes = line_1,\n",
    "              width=900,\n",
    "              height=700,\n",
    "              yaxis=dict(\n",
    "                        autorange = True,\n",
    "                        #range=[0, 28000000000],\n",
    "                        title='Target Total Gallons',\n",
    "                        titlefont=dict(\n",
    "                                        family='Arial, sans-serif',\n",
    "                                        size=18,\n",
    "                                        color='lightgrey'\n",
    "                        ),), \n",
    "              xaxis=dict(\n",
    "                        autorange = True,\n",
    "                        #range=[0, 28000000000],\n",
    "                        title='Real Total Gallons',\n",
    "                        titlefont=dict(\n",
    "                                        family='Arial, sans-serif',\n",
    "                                        size=18,\n",
    "                                        color='lightgrey'\n",
    "            \n",
    "                        ),\n",
    "                        ),\n",
    "              legend = dict(orientation = 'v', \n",
    "                            traceorder='grouped'),\n",
    "             )\n",
    "\n",
    "fig = dict(data=data, layout=layout)\n",
    "py.iplot(fig, filename='1_Water_2017_Season_Legend')"
   ]
  },
  {
   "cell_type": "code",
   "execution_count": 58,
   "metadata": {
    "collapsed": false,
    "scrolled": false
   },
   "outputs": [
    {
     "data": {
      "text/html": [
       "<iframe id=\"igraph\" scrolling=\"no\" style=\"border:none;\" seamless=\"seamless\" src=\"https://plot.ly/~lmf445/136.embed\" height=\"700px\" width=\"900px\"></iframe>"
      ],
      "text/plain": [
       "<plotly.tools.PlotlyDisplay object>"
      ]
     },
     "execution_count": 58,
     "metadata": {},
     "output_type": "execute_result"
    }
   ],
   "source": [
    "import plotly.plotly as py\n",
    "import plotly.graph_objs as go \n",
    "import copy\n",
    "\n",
    "from datetime import datetime\n",
    "\n",
    "\n",
    "data = []\n",
    "\n",
    "for i in listforcolors:\n",
    "    #print sup[sup['Medium']==i]['Residential_Production'].shape\n",
    "    trace_actual = go.Scatter(x=sup[sup['Medium']==i]['Residential_Production'],\n",
    "                            y=sup[sup['Medium']==i]['Target_Production'],\n",
    "                            visible=True,\n",
    "                            text= sup[sup['Medium']==i]['PWSID'],\n",
    "                            name=i,\n",
    "                            marker=dict(size=16,\n",
    "                                        line= dict(width=1),\n",
    "                                        cmax=13,\n",
    "                                        cmin=0,\n",
    "                                        color= sup[sup['Medium']==i].color.tolist(),\n",
    "                                        colorscale='Jet',),\n",
    "                            opacity=.65,\n",
    "                            mode='markers')\n",
    "    data.append(trace_actual)\n",
    "\n",
    "    \n",
    "trace1 = go.Scatter(\n",
    "    x=[0, 28000000000],\n",
    "    y=[0, 28000000000],\n",
    "    mode='lines',\n",
    "    line = dict(color= 'gray'),\n",
    "    #name='Lines, Markers and Text',\n",
    "    #text=['Text A', 'Text B', 'Text C'],\n",
    "    #textposition='top'\n",
    ")    \n",
    "data.append(trace1)\n",
    "menu = []\n",
    "other=[]\n",
    "vis = []\n",
    "\n",
    "for i in listforcolors:\n",
    "    vis.append(False)\n",
    "    other.append(True)\n",
    "    \n",
    "count=0\n",
    "vis.append(True)\n",
    "other.append(True)\n",
    "for i in listforcolors:\n",
    "    use_vis = copy.deepcopy(vis)\n",
    "    use_vis[count]=True\n",
    "    #print use_vis\n",
    "    menu.append(dict(label = i,\n",
    "                 method = 'update',\n",
    "                 args = [{'visible': use_vis}]))\n",
    "    count+=1\n",
    "menu.append(dict(label = 'All',\n",
    "                 method = 'update',\n",
    "                 args = [{'visible': other}]))\n",
    "\n",
    "updatemenus2 = list([\n",
    "                    dict(active=0,\n",
    "                         buttons=list(menu)\n",
    "                    )\n",
    "                ])\n",
    "                         \n",
    "layout = dict(title='Water_Performance', showlegend=False,\n",
    "              width=900,\n",
    "              height=700,\n",
    "              yaxis=dict(\n",
    "                        #range=[0, 28000000000],\n",
    "                        title='Target Total Gallons',\n",
    "                        titlefont=dict(\n",
    "                                        family='Arial, sans-serif',\n",
    "                                        size=18,\n",
    "                                        color='lightgrey'\n",
    "                        ),), \n",
    "              xaxis=dict(\n",
    "                        #range=[0, 28000000000],\n",
    "                        title='Real Total Gallons',\n",
    "                        titlefont=dict(\n",
    "                                        family='Arial, sans-serif',\n",
    "                                        size=18,\n",
    "                                        color='lightgrey'\n",
    "            \n",
    "                        ),\n",
    "                        ),\n",
    "              updatemenus=updatemenus2)\n",
    "\n",
    "fig = dict(data=data, layout=layout)\n",
    "py.iplot(fig, filename='2_Water_perfromance_w_Income_dropdown')"
   ]
  },
  {
   "cell_type": "code",
   "execution_count": 59,
   "metadata": {
    "collapsed": false,
    "scrolled": false
   },
   "outputs": [
    {
     "data": {
      "text/html": [
       "<iframe id=\"igraph\" scrolling=\"no\" style=\"border:none;\" seamless=\"seamless\" src=\"https://plot.ly/~lmf445/138.embed\" height=\"525px\" width=\"100%\"></iframe>"
      ],
      "text/plain": [
       "<plotly.tools.PlotlyDisplay object>"
      ]
     },
     "execution_count": 59,
     "metadata": {},
     "output_type": "execute_result"
    }
   ],
   "source": [
    "import plotly.plotly as py\n",
    "import plotly.graph_objs as go \n",
    "\n",
    "from datetime import datetime\n",
    "test ='CA4110016'\n",
    "#test ='CA1510003'\n",
    "\n",
    "trace_actual = go.Scatter(x=sup[sup.report_pwsid == test].sort_values('report_date')['report_date'],\n",
    "                        y=sup[sup.report_pwsid == test].sort_values('report_date')['Residential_Production'],\n",
    "                        visible=True,\n",
    "                        text=  test + ' - ' + sup[sup.report_pwsid ==test]['report_agency_name'],\n",
    "                        name='Residential_Production',\n",
    "                        line=dict(color='#33CFA5'))\n",
    "trace_target = go.Scatter(x=sup[sup.report_pwsid == test].sort_values('report_date')['report_date'],\n",
    "                           y=sup[sup.report_pwsid == test].sort_values('report_date')['Target_Production'],\n",
    "                           name='Target_Production',\n",
    "                           text=  test + ' - ' + sup[sup.report_pwsid == test]['report_agency_name'],\n",
    "                           visible=True,\n",
    "                           line=dict(color='#F06A6A', dash='dash'))\n",
    "data = [trace_actual, trace_target]\n",
    "\n",
    "\n",
    "updatemenus = list([\n",
    "    dict(active=0,\n",
    "         buttons=list([   \n",
    "            dict(label = 'Both',\n",
    "                 method = 'update',\n",
    "                 args = [{'visible': [True, True]},\n",
    "                         {'title': 'Both',}]),\n",
    "            dict(label = 'Actual',\n",
    "                 method = 'update',\n",
    "                 args = [{'visible': [True, False]},\n",
    "                         {'title': 'Actual',}]),\n",
    "            dict(label = 'Target',\n",
    "                 method = 'update',\n",
    "                 args = [{'visible': [False, True]},\n",
    "                         {'title': 'Target'}]),\n",
    "        ]),\n",
    "    )\n",
    "])\n",
    "\n",
    "layout = dict(title='Water_Performance', showlegend=True,\n",
    "              yaxis=dict(\n",
    "        title='Total Gallons',\n",
    "        titlefont=dict(\n",
    "            family='Arial, sans-serif',\n",
    "            size=18,\n",
    "            color='lightgrey'\n",
    "        ),\n",
    "    ), updatemenus=updatemenus)\n",
    "\n",
    "fig = dict(data=data, layout=layout)\n",
    "py.iplot(fig, filename='3_Water_Performance_Timeseries')"
   ]
  },
  {
   "cell_type": "markdown",
   "metadata": {
    "collapsed": false
   },
   "source": [
    "import plotly.plotly as py\n",
    "import plotly.graph_objs as go \n",
    "\n",
    "from datetime import datetime\n",
    "data=[]\n",
    "for i in all_pwsid[:5]:\n",
    "    trace_actual = go.Scatter(x=sup[sup.report_pwsid == i].sort_values('report_date')['report_date'],\n",
    "                            y=sup[sup.report_pwsid == i].sort_values('report_date')['Residential_Production'],\n",
    "                            visible=True,\n",
    "                            text=  i + ' - ' + sup[sup.report_pwsid == i]['report_agency_name'],\n",
    "                            name='Residential_Production',\n",
    "                            line=dict(color='#33CFA5'))\n",
    "    trace_target = go.Scatter(x=sup[sup.report_pwsid == i].sort_values('report_date')['report_date'],\n",
    "                               y=sup[sup.report_pwsid == i].sort_values('report_date')['Target_Production'],\n",
    "                               name='Target_Production',\n",
    "                               text=  i + ' - ' + sup[sup.report_pwsid == i]['report_agency_name'],\n",
    "                               visible=True,\n",
    "                               line=dict(color='#F06A6A', dash='dash'))\n",
    "    data.append(trace_actual)\n",
    "    data.append(trace_target)\n",
    "\n",
    "layout = dict(title='Water_Performance', showlegend=False,\n",
    "              yaxis=dict(\n",
    "        title='Total Gallons',\n",
    "        titlefont=dict(\n",
    "            family='Arial, sans-serif',\n",
    "            size=18,\n",
    "            color='lightgrey'\n",
    "        ),\n",
    "    ), #updatemenus=updatemenus\n",
    "             )\n",
    "\n",
    "fig = dict(data=data, layout=layout)\n",
    "py.iplot(fig, filename='Water_Performance_All')"
   ]
  },
  {
   "cell_type": "code",
   "execution_count": 60,
   "metadata": {
    "collapsed": false
   },
   "outputs": [
    {
     "data": {
      "text/plain": [
       "['_17_mean_autumn', '_17_mean_winter', '_17_mean_spring', '_17_mean_summer']"
      ]
     },
     "execution_count": 60,
     "metadata": {},
     "output_type": "execute_result"
    }
   ],
   "source": [
    "by_tim_seas"
   ]
  },
  {
   "cell_type": "code",
   "execution_count": 61,
   "metadata": {
    "collapsed": false
   },
   "outputs": [
    {
     "data": {
      "text/plain": [
       "{'_17_mean_autumn': ['Autumn 2016', 'brown'],\n",
       " '_17_mean_spring': ['Spring 2017', 'green'],\n",
       " '_17_mean_summer': ['Summer 2017', 'orange'],\n",
       " '_17_mean_winter': ['Winter 2017', 'rgb(44,123,182)']}"
      ]
     },
     "execution_count": 61,
     "metadata": {},
     "output_type": "execute_result"
    }
   ],
   "source": [
    "color_s"
   ]
  },
  {
   "cell_type": "code",
   "execution_count": 62,
   "metadata": {
    "collapsed": false
   },
   "outputs": [],
   "source": [
    "name_seas = {'_17_tot_autumn': ['Autumn 2016', 'rgb(171,217,233)'], \n",
    "                 '_17_tot_winter' : [\"Winter 2017\", 'rgb(44,123,182)'],\n",
    "                 '_17_tot_spring' : ['Spring 2017','rgb(253,174,97)',],\n",
    "                 '_17_tot_summer':['Summer 2017', 'rgb(215,25,28)']}"
   ]
  },
  {
   "cell_type": "code",
   "execution_count": 63,
   "metadata": {
    "collapsed": true
   },
   "outputs": [],
   "source": [
    "name_seas = {'_17_tot_autumn':['Autumn 2016','brown'],\n",
    "               '_17_tot_winter':['Winter 2017','rgb(44,123,182)'],\n",
    "               '_17_tot_spring':['Spring 2017','green'],\n",
    "               '_17_tot_summer':['Summer 2017','orange']}"
   ]
  },
  {
   "cell_type": "markdown",
   "metadata": {},
   "source": [
    "trace0.help('customdata')\n",
    "trace0.help('customdatasrc')\n",
    "trace0.help('hoverinfo')\n",
    "trace0.help('hoverinfosrc')"
   ]
  },
  {
   "cell_type": "code",
   "execution_count": 64,
   "metadata": {
    "collapsed": false,
    "scrolled": false
   },
   "outputs": [
    {
     "data": {
      "text/html": [
       "<iframe id=\"igraph\" scrolling=\"no\" style=\"border:none;\" seamless=\"seamless\" src=\"https://plot.ly/~lmf445/140.embed\" height=\"525px\" width=\"100%\"></iframe>"
      ],
      "text/plain": [
       "<plotly.tools.PlotlyDisplay object>"
      ]
     },
     "execution_count": 64,
     "metadata": {},
     "output_type": "execute_result"
    }
   ],
   "source": [
    "by_tim_seas\n",
    "test = re_tot_2017['report_pwsid'],\n",
    "data = []\n",
    "for s in by_tim_tot:\n",
    "    trace0 = go.Box(\n",
    "        y = re_tot_2017['Residential_Production'+s]/re_tot_2017['Target_Production'+s],\n",
    "        name = name_seas[s][0],\n",
    "        jitter = 0.3,\n",
    "        pointpos = -1.8,\n",
    "        boxpoints = 'all',\n",
    "        hoverinfo =  'customdata',\n",
    "        #hoverinfosrc = 'customdata',\n",
    "        customdata = re_tot_2017['report_pwsid'],\n",
    "        #hoverinfosrc = re_tot_2017['report_pwsid'],\n",
    "        #textsrc = re_tot_2017['report_pwsid'],\n",
    "        #ids = re_tot_2017['report_pwsid'],\n",
    "        #textsrc = re_tot_2017['report_pwsid'],\n",
    "        #hoverinfosrc = test,\n",
    "        \n",
    "        #hoverinfosrc =  re_tot_2017['report_pwsid'],\n",
    "        #customdatasrc = re_tot_2017['report_pwsid'],\n",
    "        #idssrc = re_tot_2017['report_pwsid'],\n",
    "        \n",
    "        marker = dict(\n",
    "            color = name_seas[s][1],\n",
    "            opacity=0.5,\n",
    "            line= dict(width=1),),\n",
    "        line = dict(\n",
    "            color = name_seas[s][1])\n",
    "    )\n",
    "    data.append(trace0)\n",
    "\n",
    "\n",
    "layout = go.Layout(\n",
    "    title = \"Water Efficiency by Season\"\n",
    ")\n",
    "\n",
    "fig = go.Figure(data=data,layout=layout)\n",
    "py.iplot(fig, filename = \"4_Water_Efficiency_Season_BOX\")"
   ]
  },
  {
   "cell_type": "code",
   "execution_count": 65,
   "metadata": {
    "collapsed": false
   },
   "outputs": [
    {
     "data": {
      "text/plain": [
       "[u'$15k to 19.9k',\n",
       " u'$20k to 24.9k',\n",
       " u'$25k to 29.9k',\n",
       " u'$30k to 34.9k',\n",
       " u'$35k to 39.9k',\n",
       " u'$40k to 44.9k',\n",
       " u'$45k to 49.9k',\n",
       " u'$50k to 59.9k',\n",
       " u'$60k to 74.9k',\n",
       " u'$75k to 99.9k',\n",
       " u'$100k to 124.9k',\n",
       " u'$125k to 149.9k',\n",
       " u'$150k to 199.9k',\n",
       " u'$200k or more']"
      ]
     },
     "execution_count": 65,
     "metadata": {},
     "output_type": "execute_result"
    }
   ],
   "source": [
    "forscale =[]\n",
    "for i in listforcolors:\n",
    "    \n",
    "    forscale.append(re_tot_2017[re_tot_2017['Medium']==i].x_medium.unique()[0])\n",
    "forscale"
   ]
  },
  {
   "cell_type": "code",
   "execution_count": 66,
   "metadata": {
    "collapsed": false,
    "scrolled": false
   },
   "outputs": [
    {
     "data": {
      "text/html": [
       "<iframe id=\"igraph\" scrolling=\"no\" style=\"border:none;\" seamless=\"seamless\" src=\"https://plot.ly/~lmf445/142.embed\" height=\"700px\" width=\"900px\"></iframe>"
      ],
      "text/plain": [
       "<plotly.tools.PlotlyDisplay object>"
      ]
     },
     "execution_count": 66,
     "metadata": {},
     "output_type": "execute_result"
    }
   ],
   "source": [
    "import plotly.plotly as py\n",
    "import plotly.graph_objs as go \n",
    "import copy\n",
    "\n",
    "from datetime import datetime\n",
    "tryT = re_tot_2017.color.unique().tolist()\n",
    "tryT.sort()\n",
    "tryT\n",
    "\n",
    "s = '_17_tot_summer'\n",
    "data = []\n",
    "\n",
    "for i in listforcolors:\n",
    "    \n",
    "    trace_actual = go.Scatter(x=re_tot_2017[re_tot_2017['Medium']==i]['Residential_Production'+s],\n",
    "                            y=re_tot_2017[re_tot_2017['Medium']==i]['Target_Production'+s],\n",
    "                            visible=True,\n",
    "                            text= re_tot_2017[re_tot_2017['Medium']==i]['PWSID'] +' - '+ re_tot_2017[re_tot_2017['Medium']==i]['report_agency_name'],\n",
    "                            name=i,\n",
    "                            opacity = 0.65,\n",
    "                            marker=dict(size=16,\n",
    "                                        line= dict(width=1),\n",
    "                                        \n",
    "                                        colorbar=dict(\n",
    "                                                        title='Median Household Income',\n",
    "                bordercolor= 'lightgrey',\n",
    "                outlinecolor = 'lightgrey',\n",
    "                                                        ticktext = forscale,\n",
    "                                                        tickmode = 'array',\n",
    "                                                        tickvals = tryT,\n",
    "                                                    ),\n",
    "                                        cmax=13,\n",
    "                                        cmin=0,\n",
    "                                        color= re_tot_2017[re_tot_2017['Medium']==i].color.tolist(),\n",
    "                                        colorscale='Jet',),\n",
    "                            mode='markers')\n",
    "    data.append(trace_actual)\n",
    "\n",
    "    \n",
    "trace1 = go.Scatter(\n",
    "    x=[0, 35000000000],\n",
    "    y=[0, 35000000000],\n",
    "    mode='lines',\n",
    "    line = dict(color= 'gray'),\n",
    "    #name='Lines, Markers and Text',\n",
    "    #text=['Text A', 'Text B', 'Text C'],\n",
    "    #textposition='top'\n",
    ")    \n",
    "data.append(trace1)\n",
    "menu = []\n",
    "other=[]\n",
    "vis = []\n",
    "\n",
    "for i in listforcolors:\n",
    "    vis.append(False)\n",
    "    other.append(True)\n",
    "    \n",
    "count=0\n",
    "vis.append(True)\n",
    "other.append(True)\n",
    "for i in listforcolors:\n",
    "    use_vis = copy.deepcopy(vis)\n",
    "    use_vis[count]=True\n",
    "    menu.append(dict(label = i,\n",
    "                 method = 'update',\n",
    "                 args = [{'visible': use_vis}]))\n",
    "    count+=1\n",
    "menu.append(dict(label = 'All',\n",
    "                 method = 'update',\n",
    "                 args = [{'visible': other}]))\n",
    "\n",
    "updatemenus2 = list([\n",
    "                    dict(active=14,\n",
    "                         buttons=list(menu)\n",
    "                    )\n",
    "                ])\n",
    "                         \n",
    "layout = dict(title='Water Performance Summer 2017 w/ Household Median Income', showlegend=False,\n",
    "              width=900,\n",
    "              height=700,\n",
    "              #hovermode ='x',\n",
    "              yaxis=dict(\n",
    "                        #range=[0, 28000000000],\n",
    "                        title='Target Total Gallons',\n",
    "                        titlefont=dict(\n",
    "                                        family='Arial, sans-serif',\n",
    "                                        size=18,\n",
    "                                        color='lightgrey'\n",
    "                        ),), \n",
    "              xaxis=dict(\n",
    "                        #range=[0, 28000000000],\n",
    "                        title='Real Total Gallons',\n",
    "                        titlefont=dict(\n",
    "                                        family='Arial, sans-serif',\n",
    "                                        size=18,\n",
    "                                        color='lightgrey'\n",
    "            \n",
    "                        ),\n",
    "                        ),\n",
    "              updatemenus=updatemenus2)\n",
    "\n",
    "fig = dict(data=data, layout=layout)\n",
    "py.iplot(fig, filename='5_Water_Efficiency_Summer_by_Income')"
   ]
  },
  {
   "cell_type": "code",
   "execution_count": 67,
   "metadata": {
    "collapsed": false,
    "scrolled": false
   },
   "outputs": [
    {
     "data": {
      "text/html": [
       "<iframe id=\"igraph\" scrolling=\"no\" style=\"border:none;\" seamless=\"seamless\" src=\"https://plot.ly/~lmf445/144.embed\" height=\"525px\" width=\"100%\"></iframe>"
      ],
      "text/plain": [
       "<plotly.tools.PlotlyDisplay object>"
      ]
     },
     "execution_count": 67,
     "metadata": {},
     "output_type": "execute_result"
    }
   ],
   "source": [
    "import plotly.plotly as py\n",
    "import plotly.graph_objs as go \n",
    "import copy\n",
    "\n",
    "from datetime import datetime\n",
    "\n",
    "s = '_17_tot_summer'\n",
    "data = []\n",
    "the_c = 0\n",
    "for s in by_tim_tot:\n",
    "    if the_c==3:\n",
    "        vis_bool=True\n",
    "    else:\n",
    "        vis_bool = False\n",
    "    \n",
    "    for i in listforcolors:\n",
    "    #i=  listforcolors[5]\n",
    "        trace_actual = go.Scatter(x= re_tot_2017[re_tot_2017['Medium']==i]['x_medium'],\n",
    "                                y=re_tot_2017[re_tot_2017['Medium']==i]['Residential_Production'+s]/re_tot_2017[re_tot_2017['Medium']==i]['Target_Production'+s],\n",
    "                                visible = vis_bool,\n",
    "                                text= re_tot_2017[re_tot_2017['Medium']==i]['PWSID'] +' - '+ re_tot_2017[re_tot_2017['Medium']==i]['report_agency_name'],\n",
    "                                name='Water Performance'+ name_seas[s][0] + 'w/ Household Median Income',\n",
    "                                marker=dict(size=16,\n",
    "                                            cmax=13,\n",
    "                                            cmin=0,\n",
    "                                            color= re_tot_2017[re_tot_2017['Medium']==i].color.tolist(),\n",
    "                                            line= dict(width=1),\n",
    "                                            colorscale='Jet',),\n",
    "                                mode='markers',\n",
    "                                opacity = .55,)\n",
    "        data.append(trace_actual)\n",
    "    the_c+=1\n",
    "\n",
    "    \n",
    "\n",
    "menu = []\n",
    "other=[]\n",
    "vis = []\n",
    "\n",
    "for s in by_tim_tot:\n",
    "    for i in listforcolors:\n",
    "        vis.append(False)\n",
    "        other.append(True)\n",
    "count=0\n",
    "\n",
    "for s in by_tim_tot:\n",
    "    use_vis = copy.deepcopy(vis)\n",
    "    for i in listforcolors:\n",
    "        use_vis[count]=True\n",
    "        count+=1\n",
    "    menu.append(dict(label = name_seas[s][0],\n",
    "                 method = 'update',\n",
    "                 args = [{'visible': use_vis}]))\n",
    "\n",
    "\n",
    "updatemenus2 = list([\n",
    "                    dict(active=3,\n",
    "                         buttons=list(menu),\n",
    "                         pad = {'r': 20, 't': 20},\n",
    "                         x = 1,\n",
    "                         xanchor = 'right',\n",
    "                         yanchor = 'top',\n",
    "                    ),\n",
    "                        \n",
    "                ])\n",
    "                \n",
    "        \n",
    "layout = dict(title='Water Seasonal Performance in 2017 w/ Household Median Income', showlegend=False,\n",
    "              #width=900,\n",
    "              #height=700,\n",
    "              shapes=[dict({\n",
    "                            'type': 'line',\n",
    "                            'x0': -.5,\n",
    "                            'y0': 1,\n",
    "                            'x1': 13.5,\n",
    "                            'y1': 1,\n",
    "                            'line': {\n",
    "                                'color': 'lightgrey',\n",
    "                                'width': 2\n",
    "                            }})],\n",
    "               annotations=[\n",
    "                            dict(\n",
    "                                x=-.5,\n",
    "                                y=1,\n",
    "                                xref='x',\n",
    "                                yref='y',\n",
    "                                text='Target',\n",
    "                                arrowcolor = 'lightgrey',\n",
    "                                opacity = .8,\n",
    "            \n",
    "                                showarrow=True,\n",
    "                                arrowhead=7,\n",
    "                                ax=100,\n",
    "                                ay=-200\n",
    "                            )],\n",
    "              hovermode ='closest',\n",
    "              yaxis=dict(\n",
    "                        #range=[0, 28000000000],\n",
    "                        title='Water Consumption Efficiency',\n",
    "                        titlefont=dict(\n",
    "                                        family='Arial, sans-serif',\n",
    "                                        size=18,\n",
    "                                        color='lightgrey'\n",
    "                        ),), \n",
    "              xaxis=dict(\n",
    "                        #range=[0, 28000000000],\n",
    "                        title='Median Household Income',\n",
    "                        \n",
    "                        #tickvals = range(0,13),\n",
    "                        #ticktext = listforcolors,\n",
    "                        titlefont=dict(\n",
    "                                        family='Arial, sans-serif',\n",
    "                                        size=18,\n",
    "                                        color='lightgrey'\n",
    "            \n",
    "                        ),\n",
    "                        ),\n",
    "              updatemenus=updatemenus2)\n",
    "\n",
    "fig = dict(data=data, layout=layout)\n",
    "py.iplot(fig, filename='6_Seasonal_Water_Effic_Summer_vs_Income')"
   ]
  },
  {
   "cell_type": "code",
   "execution_count": 68,
   "metadata": {
    "collapsed": false
   },
   "outputs": [
    {
     "data": {
      "text/plain": [
       "369"
      ]
     },
     "execution_count": 68,
     "metadata": {},
     "output_type": "execute_result"
    }
   ],
   "source": [
    "len(re_tot_2017.report_agency_name.unique().tolist())"
   ]
  },
  {
   "cell_type": "code",
   "execution_count": 69,
   "metadata": {
    "collapsed": false,
    "scrolled": false
   },
   "outputs": [
    {
     "data": {
      "text/html": [
       "<iframe id=\"igraph\" scrolling=\"no\" style=\"border:none;\" seamless=\"seamless\" src=\"https://plot.ly/~lmf445/146.embed\" height=\"525px\" width=\"100%\"></iframe>"
      ],
      "text/plain": [
       "<plotly.tools.PlotlyDisplay object>"
      ]
     },
     "execution_count": 69,
     "metadata": {},
     "output_type": "execute_result"
    }
   ],
   "source": [
    "#import requests\n",
    "import plotly.figure_factory as ff\n",
    "def LSI(s):\n",
    "    x1 = re_tot_2017['Residential_Production'+s]/re_tot_2017['Target_Production'+s]\n",
    "    return x1\n",
    "\n",
    "def the_names(s):\n",
    "    l1 = name_seas[s][0]\n",
    "    return l1\n",
    "\n",
    "def the_text(s):\n",
    "    l0 = re_tot_2017.PWSID + ' - ' + re_tot_2017.report_agency_name\n",
    "    return l0\n",
    "\n",
    "def the_color(s):\n",
    "    c = name_seas[s][1]\n",
    "    return c\n",
    "\n",
    "\n",
    "col = []\n",
    "hist_data = []\n",
    "group_labels = []\n",
    "rug_text_all = []\n",
    "\n",
    "count=0\n",
    "for s in by_tim_tot:\n",
    "    hist_data.append(LSI(s))\n",
    "    group_labels.append(the_names(s))\n",
    "    rug_text_all.append(the_text(s))\n",
    "    col.append(the_color(s))\n",
    "\n",
    "#, colors=colors,\n",
    "\n",
    "# Create distplot with curve_type set to 'normal'\n",
    "fig = ff.create_distplot(hist_data, group_labels, show_hist=False, rug_text = rug_text_all, bin_size=5, colors=col)\n",
    "\n",
    "fig['layout'].update(title='Water Consumption Efficiency Distribution',\n",
    "                     showlegend=True,\n",
    "                     shapes=[dict({\n",
    "                            'type': 'line',\n",
    "                            'x0': 1,\n",
    "                            'y0': 0,\n",
    "                            'x1': 1,\n",
    "                            'y1': 2,\n",
    "                            'line': {\n",
    "                                'color': 'lightgrey',\n",
    "                                'width': 2\n",
    "                            }})],\n",
    "                     annotations=[\n",
    "                            dict(\n",
    "                                x=1,\n",
    "                                y=1.7,\n",
    "                                xref='x',\n",
    "                                yref='y',\n",
    "                                text='Target',\n",
    "                                arrowcolor = 'lightgrey',\n",
    "                                opacity = .8,\n",
    "    \n",
    "                                showarrow=True,\n",
    "                                arrowhead=7,\n",
    "                                ax=60,\n",
    "                                ay=-35\n",
    "                            )],\n",
    "                     \n",
    "                     plot_bgcolor='rgb(250,250,250)',\n",
    "                    xaxis = dict(title = 'Water Consumption Efficiency',gridcolor='#FFFFFF',#gridwidth=2\n",
    "                                ),\n",
    "              yaxis = dict(title = 'Density', gridcolor='#FFFFFF',\n",
    "                          ))\n",
    "# Plot!\n",
    "py.iplot(fig, filename='7_Seasonal_Water_Effic_Distribution')"
   ]
  },
  {
   "cell_type": "code",
   "execution_count": 70,
   "metadata": {
    "collapsed": false
   },
   "outputs": [],
   "source": [
    "cmap = ['#124FCD','#1282CD', '#12B6CD', '#12CEB0', '#11CE7C', '#11CE48',\n",
    "        '#11CF13', '#43CF10','#78D010', '#AED010', '#D0BD0F', '#D1880F', \n",
    "        '#D1520F', '#D11B0E']"
   ]
  },
  {
   "cell_type": "code",
   "execution_count": 71,
   "metadata": {
    "collapsed": false
   },
   "outputs": [
    {
     "data": {
      "text/plain": [
       "Series([], dtype: float64)"
      ]
     },
     "execution_count": 71,
     "metadata": {},
     "output_type": "execute_result"
    }
   ],
   "source": [
    "re_tot_2017[re_tot_2017['Medium']==s]['Residential_Production']/re_tot_2017[re_tot_2017['Medium']==s]['Target_Production']"
   ]
  },
  {
   "cell_type": "code",
   "execution_count": 72,
   "metadata": {
    "collapsed": false
   },
   "outputs": [
    {
     "data": {
      "text/plain": [
       "[u'$15,000 to $19,999',\n",
       " u'$20,000 to $24,999',\n",
       " u'$25,000 to $29,999',\n",
       " u'$30,000 to $34,999',\n",
       " u'$35,000 to $39,999',\n",
       " u'$40,000 to $44,999',\n",
       " u'$45,000 to $49,999',\n",
       " u'$50,000 to $59,999',\n",
       " u'$60,000 to $74,999',\n",
       " u'$75,000 to $99,999',\n",
       " u'$100,000 to $124,999',\n",
       " u'$125,000 to $149,999',\n",
       " u'$150,000 to $199,999',\n",
       " u'$200,000 or more']"
      ]
     },
     "execution_count": 72,
     "metadata": {},
     "output_type": "execute_result"
    }
   ],
   "source": [
    "listforcolors"
   ]
  },
  {
   "cell_type": "code",
   "execution_count": 73,
   "metadata": {
    "collapsed": false
   },
   "outputs": [],
   "source": [
    "s_tot_2017 = tot_2017.dropna(subset = ['Target_Production'])"
   ]
  },
  {
   "cell_type": "code",
   "execution_count": 74,
   "metadata": {
    "collapsed": false,
    "scrolled": false
   },
   "outputs": [
    {
     "data": {
      "text/html": [
       "<iframe id=\"igraph\" scrolling=\"no\" style=\"border:none;\" seamless=\"seamless\" src=\"https://plot.ly/~lmf445/148.embed\" height=\"525px\" width=\"100%\"></iframe>"
      ],
      "text/plain": [
       "<plotly.tools.PlotlyDisplay object>"
      ]
     },
     "execution_count": 74,
     "metadata": {},
     "output_type": "execute_result"
    }
   ],
   "source": [
    "#import requests\n",
    "def LSI(s):\n",
    "    x1 = s_tot_2017[s_tot_2017['Medium']==s]['Residential_Production']/s_tot_2017[s_tot_2017['Medium']==s]['Target_Production']\n",
    "    return x1\n",
    "\n",
    "def the_names(s):\n",
    "    l1 = s_tot_2017[s_tot_2017['Medium']==s]['x_medium'].unique().tolist()[0]\n",
    "    return l1\n",
    "\n",
    "def the_text(s):\n",
    "    l0 = s_tot_2017[s_tot_2017['Medium']==s].PWSID + ' - ' + s_tot_2017[s_tot_2017['Medium']==s].report_agency_name\n",
    "    return l0\n",
    "\n",
    "def the_color(s):\n",
    "    c = cmap[int(s_tot_2017[s_tot_2017['Medium']==s].color.unique().tolist()[0])]\n",
    "    return c\n",
    "\n",
    "\n",
    "col = []\n",
    "hist_data = []\n",
    "group_labels = []\n",
    "rug_text_all = []\n",
    "\n",
    "count=0\n",
    "\n",
    "\n",
    "for s in listforcolors[:]:\n",
    "    hist_data.append(LSI(s))\n",
    "    group_labels.append(the_names(s))\n",
    "    rug_text_all.append(the_text(s))\n",
    "    col.append(the_color(s))\n",
    "\n",
    "\n",
    "fig = ff.create_distplot(hist_data, group_labels, rug_text = rug_text_all, colors=col, show_hist=False, bin_size=5)\n",
    "\n",
    "fig['layout'].update(title='Water Consumption Efficiency Distribution by Median Household-Income',\n",
    "                     showlegend=True,\n",
    "                     shapes=[dict({\n",
    "                            'type': 'line',\n",
    "                            'x0': 1,\n",
    "                            'y0': 0,\n",
    "                            'x1': 1,\n",
    "                            'y1': 3.7,\n",
    "                            'line': {\n",
    "                                'color': 'lightgrey',\n",
    "                                'width': 2\n",
    "                            }})],\n",
    "                     annotations=[\n",
    "                            dict(\n",
    "                                x=1,\n",
    "                                y=1.7,\n",
    "                                xref='x',\n",
    "                                yref='y',\n",
    "                                text='Target',\n",
    "                                arrowcolor = 'lightgrey',\n",
    "                                opacity = .8,\n",
    "    \n",
    "                                showarrow=True,\n",
    "                                arrowhead=7,\n",
    "                                ax=60,\n",
    "                                ay=-35\n",
    "                            )],\n",
    "                     \n",
    "                     plot_bgcolor='rgb(250,250,250)',\n",
    "                    xaxis = dict(title = 'Water Consumption Efficiency',gridcolor='#FFFFFF',#gridwidth=2\n",
    "                                ),\n",
    "                      yaxis = dict(title = 'Density', gridcolor='#FFFFFF',\n",
    "                                  ))\n",
    "# Plot!\n",
    "py.iplot(fig, filename='8_Water_Effic_Distribution_by_Income')"
   ]
  },
  {
   "cell_type": "code",
   "execution_count": null,
   "metadata": {
    "collapsed": true
   },
   "outputs": [],
   "source": [
    "s_tot_2017"
   ]
  },
  {
   "cell_type": "code",
   "execution_count": 52,
   "metadata": {
    "collapsed": false
   },
   "outputs": [
    {
     "data": {
      "text/plain": [
       "4.1472"
      ]
     },
     "execution_count": 52,
     "metadata": {},
     "output_type": "execute_result"
    }
   ],
   "source": [
    "2*(1.20)**4"
   ]
  },
  {
   "cell_type": "code",
   "execution_count": null,
   "metadata": {
    "collapsed": true
   },
   "outputs": [],
   "source": [
    ".18+18+18"
   ]
  },
  {
   "cell_type": "code",
   "execution_count": 75,
   "metadata": {
    "collapsed": false
   },
   "outputs": [
    {
     "data": {
      "text/plain": [
       "(4411, 32)"
      ]
     },
     "execution_count": 75,
     "metadata": {},
     "output_type": "execute_result"
    }
   ],
   "source": [
    "s_tot_2017.shape"
   ]
  },
  {
   "cell_type": "code",
   "execution_count": 76,
   "metadata": {
    "collapsed": false
   },
   "outputs": [
    {
     "data": {
      "text/plain": [
       "(369, 32)"
      ]
     },
     "execution_count": 76,
     "metadata": {},
     "output_type": "execute_result"
    }
   ],
   "source": [
    "re_tot_2017.shape"
   ]
  },
  {
   "cell_type": "code",
   "execution_count": 77,
   "metadata": {
    "collapsed": true
   },
   "outputs": [],
   "source": [
    "s_tot_2017.to_csv('Census_Data/Water_District_Income_2017.csv')"
   ]
  },
  {
   "cell_type": "code",
   "execution_count": 78,
   "metadata": {
    "collapsed": true
   },
   "outputs": [],
   "source": [
    "re_tot_2017.to_csv('Census_Data/Water_District_Income_summary.csv')"
   ]
  },
  {
   "cell_type": "markdown",
   "metadata": {
    "collapsed": false
   },
   "source": [
    "#import requests\n",
    "def LSI(i,s):\n",
    "    x1 = s_tot_2017[s_tot_2017['Medium']==i]['Residential_Production'+s]/s_tot_2017[s_tot_2017['Medium']==i]['Target_Production'+s]\n",
    "    return x1\n",
    "\n",
    "def the_names(s):\n",
    "    l1 = s_tot_2017[s_tot_2017['Medium']==i]['x_medium'].unique().tolist()[0]\n",
    "    return l1\n",
    "\n",
    "def the_text(s):\n",
    "    l0 = s_tot_2017[s_tot_2017['Medium']==i].PWSID + ' - ' + s_tot_2017[s_tot_2017['Medium']==i].report_agency_name\n",
    "    return l0\n",
    "\n",
    "def the_color(s):\n",
    "    c = cmap[int(s_tot_2017[s_tot_2017['Medium']==i].color.unique().tolist()[0])]\n",
    "    return c\n",
    "\n",
    "\n",
    "col = []\n",
    "hist_data = []\n",
    "group_labels = []\n",
    "rug_text_all = []\n",
    "\n",
    "count=0\n",
    "\n",
    "for s in listforcolors[:]:\n",
    "    for i in listforcolors[:]:\n",
    "        hist_data.append(LSI(i))\n",
    "        group_labels.append(the_names(i))\n",
    "        rug_text_all.append(the_text(i))\n",
    "        col.append(the_color(i))\n",
    "\n",
    "\n",
    "fig = ff.create_distplot(hist_data, group_labels, rug_text = rug_text_all, colors=col, show_hist=False, bin_size=5)\n",
    "\n",
    "fig['layout'].update(title='Water Consumption Efficiency Distribution',\n",
    "                     showlegend=True,\n",
    "                     shapes=[dict({\n",
    "                            'type': 'line',\n",
    "                            'x0': 1,\n",
    "                            'y0': 0,\n",
    "                            'x1': 1,\n",
    "                            'y1': 3.7,\n",
    "                            'line': {\n",
    "                                'color': 'lightgrey',\n",
    "                                'width': 2\n",
    "                            }})],\n",
    "                     annotations=[\n",
    "                            dict(\n",
    "                                x=1,\n",
    "                                y=1.7,\n",
    "                                xref='x',\n",
    "                                yref='y',\n",
    "                                text='Target',\n",
    "                                arrowcolor = 'lightgrey',\n",
    "                                opacity = .8,\n",
    "    \n",
    "                                showarrow=True,\n",
    "                                arrowhead=7,\n",
    "                                ax=60,\n",
    "                                ay=-35\n",
    "                            )],\n",
    "                     \n",
    "                     plot_bgcolor='rgb(250,250,250)',\n",
    "                    xaxis = dict(title = 'Water Consumption Efficiency',gridcolor='#FFFFFF',#gridwidth=2\n",
    "                                ),\n",
    "                      yaxis = dict(title = 'Density', gridcolor='#FFFFFF',\n",
    "                                  ))\n",
    "# Plot!\n",
    "py.iplot(fig, filename='Efficiency distribution')"
   ]
  }
 ],
 "metadata": {
  "anaconda-cloud": {},
  "kernelspec": {
   "display_name": "Python [Root]",
   "language": "python",
   "name": "Python [Root]"
  },
  "language_info": {
   "codemirror_mode": {
    "name": "ipython",
    "version": 2
   },
   "file_extension": ".py",
   "mimetype": "text/x-python",
   "name": "python",
   "nbconvert_exporter": "python",
   "pygments_lexer": "ipython2",
   "version": "2.7.12"
  }
 },
 "nbformat": 4,
 "nbformat_minor": 2
}
